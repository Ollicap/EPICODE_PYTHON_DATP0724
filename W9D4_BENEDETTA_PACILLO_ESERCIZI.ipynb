{
 "cells": [
  {
   "cell_type": "code",
   "execution_count": 1,
   "id": "6ad12cd3-4f0f-46a2-9a6b-eba5ae35923e",
   "metadata": {},
   "outputs": [
    {
     "name": "stdout",
     "output_type": "stream",
     "text": [
      "E\n",
      "p\n",
      "i\n",
      "c\n",
      "o\n",
      "d\n",
      "e\n"
     ]
    }
   ],
   "source": [
    "# 1 Abbiamo la stringa: nome_scuola = \"Epicode\" Stampare ogni carattere della stringa, uno su ogni riga, utilizzando un costrutto while.\n",
    "\n",
    "nome_scuola = 'Epicode'\n",
    "indice = 0\n",
    "while indice < len(nome_scuola):\n",
    "    print(nome_scuola[indice])\n",
    "    indice += 1"
   ]
  },
  {
   "cell_type": "code",
   "execution_count": 3,
   "id": "c5e61213-a71c-4fd0-b72c-23746aa3a8f6",
   "metadata": {},
   "outputs": [
    {
     "name": "stdout",
     "output_type": "stream",
     "text": [
      "0\n",
      "1\n",
      "2\n",
      "3\n",
      "4\n",
      "5\n",
      "6\n",
      "7\n",
      "8\n",
      "9\n",
      "10\n",
      "11\n",
      "12\n",
      "13\n",
      "14\n",
      "15\n",
      "16\n",
      "17\n",
      "18\n",
      "19\n",
      "20\n"
     ]
    }
   ],
   "source": [
    "# 2 Stampare a video tutti i numeri da 0 a 20 utilizzando il costrutto while.\n",
    "\n",
    "num = 0\n",
    "while num <= 20:\n",
    "    print(num)\n",
    "    num += 1"
   ]
  },
  {
   "cell_type": "code",
   "execution_count": 6,
   "id": "d6de54cd-4fd0-4ec3-951b-cf5cd453ba24",
   "metadata": {},
   "outputs": [
    {
     "name": "stdout",
     "output_type": "stream",
     "text": [
      "1\n",
      "2\n",
      "4\n",
      "8\n",
      "16\n",
      "32\n",
      "64\n",
      "128\n",
      "256\n",
      "512\n",
      "1024\n"
     ]
    }
   ],
   "source": [
    "# 3 Calcolare e stampare tutte le prime 10 potenze di 2 (e.g., 2⁰, 2¹, 2², …) utilizzando un ciclo while.\n",
    "x = 0\n",
    "\n",
    "while x <= 10:\n",
    "    print(2 ** x)\n",
    "    x += 1"
   ]
  },
  {
   "cell_type": "code",
   "execution_count": 8,
   "id": "38c4cfd3-ac26-4564-ae87-a281101547ad",
   "metadata": {},
   "outputs": [
    {
     "name": "stdin",
     "output_type": "stream",
     "text": [
      "Inserisci un numero -10\n",
      "Per favore, un numero positivo 12\n"
     ]
    },
    {
     "name": "stdout",
     "output_type": "stream",
     "text": [
      "12\n"
     ]
    },
    {
     "name": "stdin",
     "output_type": "stream",
     "text": [
      "-10 12\n"
     ]
    },
    {
     "name": "stdout",
     "output_type": "stream",
     "text": [
      "1\n",
      "2\n",
      "4\n",
      "8\n",
      "16\n",
      "32\n",
      "64\n",
      "128\n",
      "256\n",
      "512\n",
      "1024\n",
      "2048\n",
      "4096\n"
     ]
    }
   ],
   "source": [
    "# 4 Calcolare e stampare tutte le prime N potenze di 2 utilizzando un ciclo while, domandando all'utente di inserire N.\n",
    "\n",
    "num = int(input('Inserisci un numero'))\n",
    "num0 = 0\n",
    "if num < 0:\n",
    "    print(int(input('Per favore, un numero positivo')))\n",
    "num = int(input(num))\n",
    "while num >= 0 and num0 <= num:\n",
    "    print(2 ** num0)\n",
    "    num0 += 1"
   ]
  },
  {
   "cell_type": "code",
   "execution_count": 3,
   "id": "62427880-037f-45bf-a201-870999564a8f",
   "metadata": {},
   "outputs": [
    {
     "name": "stdout",
     "output_type": "stream",
     "text": [
      "1\n",
      "2\n",
      "4\n",
      "8\n",
      "16\n",
      "32\n",
      "64\n",
      "128\n",
      "256\n",
      "512\n",
      "1024\n",
      "2048\n",
      "4096\n",
      "8192\n",
      "16384\n"
     ]
    }
   ],
   "source": [
    "# 5 Calcolare e stampare tutte le potenze di 2 minori di 25000.\n",
    "\n",
    "valore = 1\n",
    "\n",
    "while valore < 25000:\n",
    "    print(valore)\n",
    "    valore *= 2"
   ]
  },
  {
   "cell_type": "code",
   "execution_count": null,
   "id": "944f63a1-cc0a-4805-8d39-bf625db6d696",
   "metadata": {},
   "outputs": [],
   "source": [
    "# 6 Scriviamo un programma che chiede in input all'utente una stringa e visualizza i primi 3 caratteri,\n",
    "# seguiti da 3 punti di sospensione e quindi gli ultimi 3 caratteri, similmente all'esercizio della lezione scorsa.\n",
    "# Stavolta facciamo attenzione a tutti i casi particolari, ovvero implementare soluzioni ad hoc per stringhe di lunghezza inferiore a 6 caratteri.\n"
   ]
  },
  {
   "cell_type": "code",
   "execution_count": 31,
   "id": "394aaaf5-7d07-4be5-86e4-8de104124ae2",
   "metadata": {},
   "outputs": [
    {
     "name": "stdout",
     "output_type": "stream",
     "text": [
      "Scomposizione in fattori di un numero n\n"
     ]
    },
    {
     "name": "stdin",
     "output_type": "stream",
     "text": [
      "n?  48\n"
     ]
    },
    {
     "name": "stdout",
     "output_type": "stream",
     "text": [
      "48 \t | 2\n",
      "24 \t | 2\n",
      "12 \t | 2\n",
      "6 \t | 2\n",
      "3 \t | 3\n",
      "1\n"
     ]
    }
   ],
   "source": [
    "# 7 Memorizza e stampa tutti i fattori di un numero dato in input (cioè tutti i numeri primi che, moltiplicati tra di loro, danno il numero di partenza).\n",
    "\n",
    "print(\"Scomposizione in fattori di un numero n\")\n",
    "n = int(input(\"n? \"))\n",
    "\n",
    "d = 2\n",
    "while n > 1:\n",
    "    if n % d == 0:\n",
    "        print(n, \"\\t |\", d)\n",
    "        n //= d   # oppure   n = n // d\n",
    "    else:\n",
    "        d += 1    # oppure   d = d + 1\n",
    "\n",
    "print(n)"
   ]
  },
  {
   "cell_type": "code",
   "execution_count": 5,
   "id": "48c75552-2623-4761-a741-01ffc13ef445",
   "metadata": {},
   "outputs": [
    {
     "name": "stdout",
     "output_type": "stream",
     "text": [
      "E\n",
      "p\n",
      "i\n",
      "c\n",
      "o\n",
      "d\n",
      "e\n"
     ]
    }
   ],
   "source": [
    "# 8 nome_scuola = \"Epicode\" Stampare ogni carattere della stringa, uno su ogni riga, utilizzando un costrutto for.\n",
    "\n",
    "nome_scuola = 'Epicode'\n",
    "\n",
    "for char in nome_scuola:\n",
    "    print(char)"
   ]
  },
  {
   "cell_type": "code",
   "execution_count": 2,
   "id": "a0bdaa8f-ff45-48f0-b1ce-c3bbf1566666",
   "metadata": {},
   "outputs": [
    {
     "name": "stdout",
     "output_type": "stream",
     "text": [
      "La potenza di 2 elevato a  0  è:  1\n",
      "La potenza di 2 elevato a  1  è:  2\n",
      "La potenza di 2 elevato a  2  è:  4\n",
      "La potenza di 2 elevato a  3  è:  8\n",
      "La potenza di 2 elevato a  4  è:  16\n",
      "La potenza di 2 elevato a  5  è:  32\n",
      "La potenza di 2 elevato a  6  è:  64\n",
      "La potenza di 2 elevato a  7  è:  128\n",
      "La potenza di 2 elevato a  8  è:  256\n",
      "La potenza di 2 elevato a  9  è:  512\n",
      "La potenza di 2 elevato a  10  è:  1024\n"
     ]
    }
   ],
   "source": [
    "# 9 Calcolare e stampare tutte le prime 10 potenze di 2 utilizzando un ciclo. usare range()\n",
    "x = 2\n",
    "\n",
    "for numero in range(11):\n",
    "    print('La potenza di 2 elevato a ', numero, ' è: ', 2**numero)\n",
    "    "
   ]
  },
  {
   "cell_type": "code",
   "execution_count": 8,
   "id": "33cfd013-6620-414e-9e02-4b5dc72110cf",
   "metadata": {},
   "outputs": [
    {
     "name": "stdin",
     "output_type": "stream",
     "text": [
      "Scegli un numero positivo 5\n"
     ]
    },
    {
     "name": "stdout",
     "output_type": "stream",
     "text": [
      "[5, 25, 125, 625, 3125, 15625, 78125, 390625, 1953125, 9765625]\n"
     ]
    },
    {
     "name": "stdin",
     "output_type": "stream",
     "text": [
      "Scegli un numero positivo 6\n"
     ]
    },
    {
     "name": "stdout",
     "output_type": "stream",
     "text": [
      "[1, 6, 36, 216, 1296, 7776, 46656, 279936, 1679616, 10077696, 60466176, 362797056, 2176782336, 13060694016, 78364164096, 470184984576, 2821109907456, 16926659444736, 101559956668416, 609359740010496, 3656158440062976, 21936950640377856, 131621703842267136, 789730223053602816, 4738381338321616896, 28430288029929701376, 170581728179578208256, 1023490369077469249536, 6140942214464815497216, 36845653286788892983296, 221073919720733357899776, 1326443518324400147398656, 7958661109946400884391936, 47751966659678405306351616, 286511799958070431838109696, 1719070799748422591028658176, 10314424798490535546171949056, 61886548790943213277031694336, 371319292745659279662190166016, 2227915756473955677973140996096, 13367494538843734067838845976576, 80204967233062404407033075859456, 481229803398374426442198455156736, 2887378820390246558653190730940416, 17324272922341479351919144385642496, 103945637534048876111514866313854976, 623673825204293256669089197883129856, 3742042951225759540014535187298779136, 22452257707354557240087211123792674816, 134713546244127343440523266742756048896]\n"
     ]
    }
   ],
   "source": [
    "# 10 Calcolare (ma non stampare) le prime N potenze di K; ognuna di esse andrà memorizzata in coda a una lista. Alla fine, stampare la lista risultante. Proviamo con diversi valori di K, oppure facciamola inserire all'utente.\n",
    "# Realizzare due versioni: • con un ciclo while, • con un ciclo for.\n",
    "\n",
    "# ciclo for\n",
    "\n",
    "k = int(input('Scegli un numero positivo'))\n",
    "n = [1, 2, 3, 4, 5, 6, 7, 8, 9, 10]\n",
    "potenze_k = []\n",
    "\n",
    "for number in n:\n",
    "    potenze_k.append(k ** number)\n",
    "\n",
    "print(potenze_k)\n",
    "\n",
    "# ciclo while \n",
    "k = int(input('Scegli un numero positivo'))\n",
    "x = 50\n",
    "n = 0\n",
    "potenze_k = []\n",
    "\n",
    "while n < x:\n",
    "    potenze_k.append(k ** n)\n",
    "    n += 1\n",
    "\n",
    "print(potenze_k)\n",
    "    "
   ]
  },
  {
   "cell_type": "code",
   "execution_count": 12,
   "id": "834182de-6eaa-4cd7-9191-89f3f653af61",
   "metadata": {},
   "outputs": [
    {
     "name": "stdout",
     "output_type": "stream",
     "text": [
      "70.0\n",
      "70.0\n",
      "70.0\n",
      "70.0\n",
      "70.0\n",
      "70.0\n",
      "70.0\n",
      "70.0\n",
      "70.0\n",
      "70.0\n",
      "70.0\n",
      "70.0\n"
     ]
    }
   ],
   "source": [
    "# 11 Abbiamo una lista con i guadagni degli ultimi 12 mesi: guadagni = [100, 90, 70, 40, 50, 80, 90, 120, 80, 20, 50, 50]\n",
    "# usando un costrutto for, calcolare la media dei guadagni e stamparla a video.\n",
    "\n",
    "guadagni = [100, 90, 70, 40, 50, 80, 90, 120, 80, 20, 50, 50]\n",
    "\n",
    "for guadagno in guadagni:\n",
    "    print(sum(guadagni) / len(guadagni))"
   ]
  },
  {
   "cell_type": "code",
   "execution_count": 16,
   "id": "df6d58f6-6dc8-49be-8cf3-356ef4c47981",
   "metadata": {},
   "outputs": [
    {
     "name": "stdout",
     "output_type": "stream",
     "text": [
      "[1, 1, 0, 1, 2, 4, 3, 2, 0, 1, 2, 0, 1, 2]\n"
     ]
    }
   ],
   "source": [
    "# 12 Abbiamo una lista di parole: parole = [\"Albergo\", \"Sedia\", \"Borgo\", \"Petalo\", \"Eremo\", \"Belvedere\", \"Semestre\", \"Esteta\", \"Sosta\", \"Orpello\", \"Abete\", \"Orologio\", \"Cesta\", \"Ermellino\"] stampiamo, per ogni parola, quante volte appare la lettera \"e\";\n",
    "# facciamo attenzione al fatto che appare sia maiuscola che minuscola.\n",
    "\n",
    "parole = [\"Albergo\", \"Sedia\", \"Borgo\", \"Petalo\", \"Eremo\", \"Belvedere\", \"Semestre\", \"Esteta\", \"Sosta\", \"Orpello\", \"Abete\", \"Orologio\", \"Cesta\", \"Ermellino\"]\n",
    "conteggi_e = []\n",
    "\n",
    "for parola in parole:\n",
    "    if 'e' or 'E' in parola:\n",
    "        conteggio = (parola.count('e') + parola.count('E'))\n",
    "        conteggi_e.append(conteggio)\n",
    "\n",
    "print(conteggi_e)\n"
   ]
  },
  {
   "cell_type": "code",
   "execution_count": 24,
   "id": "268ec0ee-8206-4659-bdca-b98e3a3759b3",
   "metadata": {},
   "outputs": [
    {
     "name": "stdout",
     "output_type": "stream",
     "text": [
      "{'Ada': 'Punto', 'Ben': 'Multipla', 'Charlie': 'Golf', 'Debbie': '107'}\n",
      "107\n",
      "{'Ada': 'Punto', 'Ben': 'Multipla', 'Charlie': 'Golf', 'Debbie': '107'}\n",
      "{'Ada': 'Punto', 'Ben': 'Multipla', 'Charlie': 'Golf', 'Debbie': '107'}\n",
      "107\n",
      "['Ada', 'Ben', 'Charlie', 'Debbie']\n"
     ]
    }
   ],
   "source": [
    "# 13 Creiamo un dizionario che assegni ad ogni proprietario la sua auto, sapendo che:\n",
    "# • Ada guida una Punto • Ben guida una Multipla\n",
    "# • Charlie guida una Golf • Debbie guida una 107 Stampiamo il dizionario per intero, e poi l'auto associata a Debbie.\n",
    "\n",
    "# usando dict()\n",
    "dizionario = dict([('Ada', 'Punto'), ('Ben', 'Multipla'), ('Charlie', 'Golf'), ('Debbie', '107')])\n",
    "print(dizionario)\n",
    "print(dizionario['Debbie'])\n",
    "\n",
    "dizionario_a = dict(Ada='Punto', Ben='Multipla', Charlie='Golf', Debbie='107')\n",
    "print(dizionario_a)\n",
    "\n",
    "# non usando dict()\n",
    "dizionario_1 = {'Ada': 'Punto', 'Ben': 'Multipla'}\n",
    "dizionario_1['Charlie'] = 'Golf'\n",
    "dizionario_1['Debbie'] = '107'\n",
    "\n",
    "print(dizionario_1)\n",
    "print(dizionario_1['Debbie'])\n",
    "\n",
    "print(list(dizionario))"
   ]
  },
  {
   "cell_type": "code",
   "execution_count": 28,
   "id": "f350aad0-2087-4fa9-9c45-dd12c784c887",
   "metadata": {},
   "outputs": [
    {
     "name": "stdout",
     "output_type": "stream",
     "text": [
      "dict_values(['Punto', 'Multipla', 'Golf', '107'])\n",
      "dict_values(['Punto', 'Multipla', 'Golf', '107'])\n",
      "dict_values(['Punto', 'Multipla', 'Golf', '107'])\n",
      "dict_values(['Punto', 'Multipla', 'Golf', '107'])\n"
     ]
    }
   ],
   "source": [
    "# 14 Abbiamo un dizionario che assegna ad ogni proprietario la sua auto: dizionario_auto = {\"Ada\": \"Punto\", \"Ben\": \"Multipla\", \"Charlie\": \"Golf\", \"Debbie\": \"107\"}\n",
    "# Con un ciclo, e usando il metodo .values(), stampiamo a video tutte le auto che non sono una Multipla.\n",
    "\n",
    "dizionario = dict([('Ada', 'Punto'), ('Ben', 'Multipla'), ('Charlie', 'Golf'), ('Debbie', '107')])\n",
    "\n",
    "for value in dizionario:\n",
    "    if value != 'Multipla':\n",
    "        print(dizionario.values())"
   ]
  },
  {
   "cell_type": "code",
   "execution_count": 30,
   "id": "6bdf599b-78e8-4f10-acd2-b351155f2670",
   "metadata": {},
   "outputs": [
    {
     "name": "stdout",
     "output_type": "stream",
     "text": [
      "{'Ada': 'Punto', 'Ben': 'Polo', 'Charlie': 'Golf', 'Debbie': '107', 'Emily': 'A1', 'Fred': 'Octavia', 'Grace': 'Yaris', 'Hugh': 'Clio'}\n"
     ]
    }
   ],
   "source": [
    "# 15 Abbiamo due dizionari che assegnano ad ogni proprietario la propria auto: dizionario_auto = {\"Ada\": \"Punto\", \"Ben\": \"Multipla\", \"Charlie\": \"Golf\", \"Debbie\": \"107\", \"Emily\": \"A1\"} nuovi_proprietari = {\"Ben\": \"Polo\", \"Fred\": \"Octavia\", \"Grace\": \"Yaris\", \"Hugh\": \"Clio\"}\n",
    "# Aggiornare il dizionario dizionario_auto con i dati contenuti in nuovi_proprietari e stamparlo. Cosa è successo a Ben?\n",
    "\n",
    "dizionario_auto = {\"Ada\": \"Punto\", \"Ben\": \"Multipla\", \"Charlie\": \"Golf\", \"Debbie\": \"107\", \"Emily\": \"A1\"}\n",
    "nuovi_proprietari = {\"Ben\": \"Polo\", \"Fred\": \"Octavia\", \"Grace\": \"Yaris\", \"Hugh\": \"Clio\"}\n",
    "\n",
    "dizionario_auto.update(nuovi_proprietari)\n",
    "print(dizionario_auto)\n",
    "\n",
    "# poiché i dizionari non accettano valori duplicati, viene sovrascritto il valore associato a Ben: da Multipla a Polo"
   ]
  }
 ],
 "metadata": {
  "kernelspec": {
   "display_name": "Python 3 (ipykernel)",
   "language": "python",
   "name": "python3"
  },
  "language_info": {
   "codemirror_mode": {
    "name": "ipython",
    "version": 3
   },
   "file_extension": ".py",
   "mimetype": "text/x-python",
   "name": "python",
   "nbconvert_exporter": "python",
   "pygments_lexer": "ipython3",
   "version": "3.12.7"
  }
 },
 "nbformat": 4,
 "nbformat_minor": 5
}
