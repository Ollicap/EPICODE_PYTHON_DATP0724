{
 "cells": [
  {
   "cell_type": "markdown",
   "id": "8aeacf07-8d71-4bac-a8e9-776714dd8f5a",
   "metadata": {},
   "source": [
    "# Esercizi"
   ]
  },
  {
   "cell_type": "markdown",
   "id": "e0252796-dadc-4371-9c91-aa0256e526cd",
   "metadata": {},
   "source": [
    "## Esercizio 1\n",
    "\n",
    "Nota: il dataset non ha un encoding UTF-8 ma Latin1; inoltre il separatore non è una virgola, ma un punto e virgola. Dunque per leggerlo dovremo aggiungere i parametri encoding= e sep=, ad esempio: pd.read_csv(file_path, encoding=\"latin1\", sep=\";\") 2 dove file_path è la posizione del file nel nostro calcolatore.\n",
    "\n",
    "Esaminiamo il dataset: • quanti dati ci sono in totale? • quali sono i metadati? • stampiamo il primo elemento • stampiamo l'ultimo elemento • riusciamo a stampare un elemento a caso? • quali sono gli anni di inserimento presenti? • quante attività ci sono nel quadrato di longitudine 9-10 e latitudine 45-46? • quante attività ci sono nella provincia di Vicenza? • quante enoteche ci sono, e come si chiamano? 3 • quante attività ci sono in Lazio e Abruzzo assieme?"
   ]
  },
  {
   "cell_type": "code",
   "execution_count": 6,
   "id": "1e63b274-a7aa-4785-b292-6207bd94a3a2",
   "metadata": {},
   "outputs": [],
   "source": [
    "import pandas as pd\n",
    "import numpy as np\n",
    "import math as m"
   ]
  },
  {
   "cell_type": "code",
   "execution_count": 7,
   "id": "b97f3e21-13c0-4b1b-a8d4-8efba6488429",
   "metadata": {},
   "outputs": [
    {
     "data": {
      "text/html": [
       "<div>\n",
       "<style scoped>\n",
       "    .dataframe tbody tr th:only-of-type {\n",
       "        vertical-align: middle;\n",
       "    }\n",
       "\n",
       "    .dataframe tbody tr th {\n",
       "        vertical-align: top;\n",
       "    }\n",
       "\n",
       "    .dataframe thead th {\n",
       "        text-align: right;\n",
       "    }\n",
       "</style>\n",
       "<table border=\"1\" class=\"dataframe\">\n",
       "  <thead>\n",
       "    <tr style=\"text-align: right;\">\n",
       "      <th></th>\n",
       "      <th>Comune</th>\n",
       "      <th>Provincia</th>\n",
       "      <th>Regione</th>\n",
       "      <th>Nome</th>\n",
       "      <th>Anno inserimento</th>\n",
       "      <th>Data e ora inserimento</th>\n",
       "      <th>Identificatore in OpenStreetMap</th>\n",
       "      <th>Longitudine</th>\n",
       "      <th>Latitudine</th>\n",
       "    </tr>\n",
       "  </thead>\n",
       "  <tbody>\n",
       "    <tr>\n",
       "      <th>0</th>\n",
       "      <td>ALTRO</td>\n",
       "      <td>ALTRO</td>\n",
       "      <td>ALTRO</td>\n",
       "      <td>NaN</td>\n",
       "      <td>2011</td>\n",
       "      <td>2011-06-25T23:17:43Z</td>\n",
       "      <td>1339088150</td>\n",
       "      <td>13.733257</td>\n",
       "      <td>45.575830</td>\n",
       "    </tr>\n",
       "    <tr>\n",
       "      <th>1</th>\n",
       "      <td>ALTRO</td>\n",
       "      <td>ALTRO</td>\n",
       "      <td>ALTRO</td>\n",
       "      <td>Lenny's Pub</td>\n",
       "      <td>2011</td>\n",
       "      <td>2011-07-29T17:22:56Z</td>\n",
       "      <td>1375887295</td>\n",
       "      <td>12.418681</td>\n",
       "      <td>46.747584</td>\n",
       "    </tr>\n",
       "    <tr>\n",
       "      <th>2</th>\n",
       "      <td>ALTRO</td>\n",
       "      <td>ALTRO</td>\n",
       "      <td>ALTRO</td>\n",
       "      <td>Murrayfield Pub</td>\n",
       "      <td>2015</td>\n",
       "      <td>2015-10-24T09:28:06Z</td>\n",
       "      <td>3323888102</td>\n",
       "      <td>9.029585</td>\n",
       "      <td>45.831340</td>\n",
       "    </tr>\n",
       "    <tr>\n",
       "      <th>3</th>\n",
       "      <td>ALTRO</td>\n",
       "      <td>ALTRO</td>\n",
       "      <td>ALTRO</td>\n",
       "      <td>Snop?e</td>\n",
       "      <td>2010</td>\n",
       "      <td>2010-09-22T08:32:52Z</td>\n",
       "      <td>921157802</td>\n",
       "      <td>13.640939</td>\n",
       "      <td>45.954607</td>\n",
       "    </tr>\n",
       "    <tr>\n",
       "      <th>4</th>\n",
       "      <td>ALA DI STURA</td>\n",
       "      <td>CITTA' METROPOLITANA DI TORINO</td>\n",
       "      <td>Piemonte</td>\n",
       "      <td>NaN</td>\n",
       "      <td>2012</td>\n",
       "      <td>2012-05-21T14:28:45Z</td>\n",
       "      <td>1760949034</td>\n",
       "      <td>7.307306</td>\n",
       "      <td>45.313150</td>\n",
       "    </tr>\n",
       "    <tr>\n",
       "      <th>...</th>\n",
       "      <td>...</td>\n",
       "      <td>...</td>\n",
       "      <td>...</td>\n",
       "      <td>...</td>\n",
       "      <td>...</td>\n",
       "      <td>...</td>\n",
       "      <td>...</td>\n",
       "      <td>...</td>\n",
       "      <td>...</td>\n",
       "    </tr>\n",
       "    <tr>\n",
       "      <th>2630</th>\n",
       "      <td>BARLETTA</td>\n",
       "      <td>BARLETTA-ANDRIA-TRANI</td>\n",
       "      <td>Puglia</td>\n",
       "      <td>Santa Croce</td>\n",
       "      <td>2010</td>\n",
       "      <td>2010-01-17T16:15:08Z</td>\n",
       "      <td>615632993</td>\n",
       "      <td>16.285782</td>\n",
       "      <td>41.320671</td>\n",
       "    </tr>\n",
       "    <tr>\n",
       "      <th>2631</th>\n",
       "      <td>BISCEGLIE</td>\n",
       "      <td>BARLETTA-ANDRIA-TRANI</td>\n",
       "      <td>Puglia</td>\n",
       "      <td>Auld Dublin</td>\n",
       "      <td>2014</td>\n",
       "      <td>2014-03-03T20:56:16Z</td>\n",
       "      <td>2613737619</td>\n",
       "      <td>16.497204</td>\n",
       "      <td>41.241814</td>\n",
       "    </tr>\n",
       "    <tr>\n",
       "      <th>2632</th>\n",
       "      <td>BISCEGLIE</td>\n",
       "      <td>BARLETTA-ANDRIA-TRANI</td>\n",
       "      <td>Puglia</td>\n",
       "      <td>Ferus</td>\n",
       "      <td>2014</td>\n",
       "      <td>2014-01-07T19:22:18Z</td>\n",
       "      <td>2613737620</td>\n",
       "      <td>16.506175</td>\n",
       "      <td>41.240957</td>\n",
       "    </tr>\n",
       "    <tr>\n",
       "      <th>2633</th>\n",
       "      <td>TRANI</td>\n",
       "      <td>BARLETTA-ANDRIA-TRANI</td>\n",
       "      <td>Puglia</td>\n",
       "      <td>Re Artù</td>\n",
       "      <td>2009</td>\n",
       "      <td>2009-09-04T07:57:05Z</td>\n",
       "      <td>482836935</td>\n",
       "      <td>16.418124</td>\n",
       "      <td>41.281518</td>\n",
       "    </tr>\n",
       "    <tr>\n",
       "      <th>2634</th>\n",
       "      <td>TRANI</td>\n",
       "      <td>BARLETTA-ANDRIA-TRANI</td>\n",
       "      <td>Puglia</td>\n",
       "      <td>Well's Fargo</td>\n",
       "      <td>2009</td>\n",
       "      <td>2009-08-10T12:44:03Z</td>\n",
       "      <td>387223648</td>\n",
       "      <td>16.436765</td>\n",
       "      <td>41.267264</td>\n",
       "    </tr>\n",
       "  </tbody>\n",
       "</table>\n",
       "<p>2635 rows × 9 columns</p>\n",
       "</div>"
      ],
      "text/plain": [
       "            Comune                       Provincia   Regione             Nome  \\\n",
       "0            ALTRO                           ALTRO     ALTRO              NaN   \n",
       "1            ALTRO                           ALTRO     ALTRO      Lenny's Pub   \n",
       "2            ALTRO                           ALTRO     ALTRO  Murrayfield Pub   \n",
       "3            ALTRO                           ALTRO     ALTRO           Snop?e   \n",
       "4     ALA DI STURA  CITTA' METROPOLITANA DI TORINO  Piemonte              NaN   \n",
       "...            ...                             ...       ...              ...   \n",
       "2630      BARLETTA           BARLETTA-ANDRIA-TRANI    Puglia      Santa Croce   \n",
       "2631     BISCEGLIE           BARLETTA-ANDRIA-TRANI    Puglia      Auld Dublin   \n",
       "2632     BISCEGLIE           BARLETTA-ANDRIA-TRANI    Puglia            Ferus   \n",
       "2633         TRANI           BARLETTA-ANDRIA-TRANI    Puglia          Re Artù   \n",
       "2634         TRANI           BARLETTA-ANDRIA-TRANI    Puglia     Well's Fargo   \n",
       "\n",
       "      Anno inserimento Data e ora inserimento  \\\n",
       "0                 2011   2011-06-25T23:17:43Z   \n",
       "1                 2011   2011-07-29T17:22:56Z   \n",
       "2                 2015   2015-10-24T09:28:06Z   \n",
       "3                 2010   2010-09-22T08:32:52Z   \n",
       "4                 2012   2012-05-21T14:28:45Z   \n",
       "...                ...                    ...   \n",
       "2630              2010   2010-01-17T16:15:08Z   \n",
       "2631              2014   2014-03-03T20:56:16Z   \n",
       "2632              2014   2014-01-07T19:22:18Z   \n",
       "2633              2009   2009-09-04T07:57:05Z   \n",
       "2634              2009   2009-08-10T12:44:03Z   \n",
       "\n",
       "      Identificatore in OpenStreetMap  Longitudine  Latitudine  \n",
       "0                          1339088150    13.733257   45.575830  \n",
       "1                          1375887295    12.418681   46.747584  \n",
       "2                          3323888102     9.029585   45.831340  \n",
       "3                           921157802    13.640939   45.954607  \n",
       "4                          1760949034     7.307306   45.313150  \n",
       "...                               ...          ...         ...  \n",
       "2630                        615632993    16.285782   41.320671  \n",
       "2631                       2613737619    16.497204   41.241814  \n",
       "2632                       2613737620    16.506175   41.240957  \n",
       "2633                        482836935    16.418124   41.281518  \n",
       "2634                        387223648    16.436765   41.267264  \n",
       "\n",
       "[2635 rows x 9 columns]"
      ]
     },
     "execution_count": 7,
     "metadata": {},
     "output_type": "execute_result"
    }
   ],
   "source": [
    "df_bar = pd.read_csv('Mappa-dei-pub-circoli-locali-in-Italia.csv', encoding=\"latin1\", sep=\";\")\n",
    "df_bar"
   ]
  },
  {
   "cell_type": "code",
   "execution_count": 6,
   "id": "803f94cb-eaa6-4d53-850f-5de5c68ef146",
   "metadata": {},
   "outputs": [
    {
     "data": {
      "text/plain": [
       "(2635, 9)"
      ]
     },
     "execution_count": 6,
     "metadata": {},
     "output_type": "execute_result"
    }
   ],
   "source": [
    "df_bar.shape"
   ]
  },
  {
   "cell_type": "code",
   "execution_count": 7,
   "id": "f577ee6c-91e4-4c0b-b658-665097f0e049",
   "metadata": {},
   "outputs": [
    {
     "data": {
      "text/plain": [
       "Index(['Comune', 'Provincia', 'Regione', 'Nome', 'Anno inserimento',\n",
       "       'Data e ora inserimento', 'Identificatore in OpenStreetMap',\n",
       "       'Longitudine', 'Latitudine'],\n",
       "      dtype='object')"
      ]
     },
     "execution_count": 7,
     "metadata": {},
     "output_type": "execute_result"
    }
   ],
   "source": [
    "df_bar.columns"
   ]
  },
  {
   "cell_type": "code",
   "execution_count": 9,
   "id": "8a4a31da-f1c6-492e-8bbe-cb99ba94c204",
   "metadata": {},
   "outputs": [
    {
     "data": {
      "text/html": [
       "<div>\n",
       "<style scoped>\n",
       "    .dataframe tbody tr th:only-of-type {\n",
       "        vertical-align: middle;\n",
       "    }\n",
       "\n",
       "    .dataframe tbody tr th {\n",
       "        vertical-align: top;\n",
       "    }\n",
       "\n",
       "    .dataframe thead th {\n",
       "        text-align: right;\n",
       "    }\n",
       "</style>\n",
       "<table border=\"1\" class=\"dataframe\">\n",
       "  <thead>\n",
       "    <tr style=\"text-align: right;\">\n",
       "      <th></th>\n",
       "      <th>Comune</th>\n",
       "      <th>Provincia</th>\n",
       "      <th>Regione</th>\n",
       "      <th>Nome</th>\n",
       "      <th>Anno inserimento</th>\n",
       "      <th>Data e ora inserimento</th>\n",
       "      <th>Identificatore in OpenStreetMap</th>\n",
       "      <th>Longitudine</th>\n",
       "      <th>Latitudine</th>\n",
       "    </tr>\n",
       "  </thead>\n",
       "  <tbody>\n",
       "    <tr>\n",
       "      <th>0</th>\n",
       "      <td>ALTRO</td>\n",
       "      <td>ALTRO</td>\n",
       "      <td>ALTRO</td>\n",
       "      <td>NaN</td>\n",
       "      <td>2011</td>\n",
       "      <td>2011-06-25T23:17:43Z</td>\n",
       "      <td>1339088150</td>\n",
       "      <td>13.733257</td>\n",
       "      <td>45.57583</td>\n",
       "    </tr>\n",
       "  </tbody>\n",
       "</table>\n",
       "</div>"
      ],
      "text/plain": [
       "  Comune Provincia Regione Nome  Anno inserimento Data e ora inserimento  \\\n",
       "0  ALTRO     ALTRO   ALTRO  NaN              2011   2011-06-25T23:17:43Z   \n",
       "\n",
       "   Identificatore in OpenStreetMap  Longitudine  Latitudine  \n",
       "0                       1339088150    13.733257    45.57583  "
      ]
     },
     "execution_count": 9,
     "metadata": {},
     "output_type": "execute_result"
    }
   ],
   "source": [
    "df_bar.head(1)"
   ]
  },
  {
   "cell_type": "code",
   "execution_count": 10,
   "id": "91764ddd-f5a7-4930-b84e-a5f3cda6173f",
   "metadata": {},
   "outputs": [
    {
     "data": {
      "text/html": [
       "<div>\n",
       "<style scoped>\n",
       "    .dataframe tbody tr th:only-of-type {\n",
       "        vertical-align: middle;\n",
       "    }\n",
       "\n",
       "    .dataframe tbody tr th {\n",
       "        vertical-align: top;\n",
       "    }\n",
       "\n",
       "    .dataframe thead th {\n",
       "        text-align: right;\n",
       "    }\n",
       "</style>\n",
       "<table border=\"1\" class=\"dataframe\">\n",
       "  <thead>\n",
       "    <tr style=\"text-align: right;\">\n",
       "      <th></th>\n",
       "      <th>Comune</th>\n",
       "      <th>Provincia</th>\n",
       "      <th>Regione</th>\n",
       "      <th>Nome</th>\n",
       "      <th>Anno inserimento</th>\n",
       "      <th>Data e ora inserimento</th>\n",
       "      <th>Identificatore in OpenStreetMap</th>\n",
       "      <th>Longitudine</th>\n",
       "      <th>Latitudine</th>\n",
       "    </tr>\n",
       "  </thead>\n",
       "  <tbody>\n",
       "    <tr>\n",
       "      <th>2634</th>\n",
       "      <td>TRANI</td>\n",
       "      <td>BARLETTA-ANDRIA-TRANI</td>\n",
       "      <td>Puglia</td>\n",
       "      <td>Well's Fargo</td>\n",
       "      <td>2009</td>\n",
       "      <td>2009-08-10T12:44:03Z</td>\n",
       "      <td>387223648</td>\n",
       "      <td>16.436765</td>\n",
       "      <td>41.267264</td>\n",
       "    </tr>\n",
       "  </tbody>\n",
       "</table>\n",
       "</div>"
      ],
      "text/plain": [
       "     Comune              Provincia Regione          Nome  Anno inserimento  \\\n",
       "2634  TRANI  BARLETTA-ANDRIA-TRANI  Puglia  Well's Fargo              2009   \n",
       "\n",
       "     Data e ora inserimento  Identificatore in OpenStreetMap  Longitudine  \\\n",
       "2634   2009-08-10T12:44:03Z                        387223648    16.436765   \n",
       "\n",
       "      Latitudine  \n",
       "2634   41.267264  "
      ]
     },
     "execution_count": 10,
     "metadata": {},
     "output_type": "execute_result"
    }
   ],
   "source": [
    "df_bar.tail(1)"
   ]
  },
  {
   "cell_type": "code",
   "execution_count": 11,
   "id": "0f9d665c-49f8-406c-a136-a204842502be",
   "metadata": {},
   "outputs": [
    {
     "data": {
      "text/html": [
       "<div>\n",
       "<style scoped>\n",
       "    .dataframe tbody tr th:only-of-type {\n",
       "        vertical-align: middle;\n",
       "    }\n",
       "\n",
       "    .dataframe tbody tr th {\n",
       "        vertical-align: top;\n",
       "    }\n",
       "\n",
       "    .dataframe thead th {\n",
       "        text-align: right;\n",
       "    }\n",
       "</style>\n",
       "<table border=\"1\" class=\"dataframe\">\n",
       "  <thead>\n",
       "    <tr style=\"text-align: right;\">\n",
       "      <th></th>\n",
       "      <th>Comune</th>\n",
       "      <th>Provincia</th>\n",
       "      <th>Regione</th>\n",
       "      <th>Nome</th>\n",
       "      <th>Anno inserimento</th>\n",
       "      <th>Data e ora inserimento</th>\n",
       "      <th>Identificatore in OpenStreetMap</th>\n",
       "      <th>Longitudine</th>\n",
       "      <th>Latitudine</th>\n",
       "    </tr>\n",
       "  </thead>\n",
       "  <tbody>\n",
       "    <tr>\n",
       "      <th>1292</th>\n",
       "      <td>POVOLETTO</td>\n",
       "      <td>UDINE</td>\n",
       "      <td>Friuli-Venezia Giulia</td>\n",
       "      <td>The Bridge House</td>\n",
       "      <td>2013</td>\n",
       "      <td>2013-03-14T23:02:11Z</td>\n",
       "      <td>2202513960</td>\n",
       "      <td>13.28129</td>\n",
       "      <td>46.113295</td>\n",
       "    </tr>\n",
       "  </tbody>\n",
       "</table>\n",
       "</div>"
      ],
      "text/plain": [
       "         Comune Provincia                Regione              Nome  \\\n",
       "1292  POVOLETTO     UDINE  Friuli-Venezia Giulia  The Bridge House   \n",
       "\n",
       "      Anno inserimento Data e ora inserimento  \\\n",
       "1292              2013   2013-03-14T23:02:11Z   \n",
       "\n",
       "      Identificatore in OpenStreetMap  Longitudine  Latitudine  \n",
       "1292                       2202513960     13.28129   46.113295  "
      ]
     },
     "execution_count": 11,
     "metadata": {},
     "output_type": "execute_result"
    }
   ],
   "source": [
    "df_bar.sample(1)"
   ]
  },
  {
   "cell_type": "code",
   "execution_count": 16,
   "id": "1a5c3842-e435-4b3a-9a24-bc8afcf2c549",
   "metadata": {},
   "outputs": [
    {
     "data": {
      "text/plain": [
       "array([2011, 2015, 2010, 2012, 2014, 2016, 2013, 2008, 2009, 2007],\n",
       "      dtype=int64)"
      ]
     },
     "execution_count": 16,
     "metadata": {},
     "output_type": "execute_result"
    }
   ],
   "source": [
    "df_bar.value_counts('Anno inserimento')\n",
    "df_bar['Anno inserimento'].unique()"
   ]
  },
  {
   "cell_type": "code",
   "execution_count": 42,
   "id": "a2549a98-83bc-4cbd-8738-90f423b3e5ad",
   "metadata": {},
   "outputs": [
    {
     "data": {
      "text/plain": [
       "0        True\n",
       "1       False\n",
       "2        True\n",
       "3        True\n",
       "4        True\n",
       "        ...  \n",
       "2630    False\n",
       "2631    False\n",
       "2632    False\n",
       "2633    False\n",
       "2634    False\n",
       "Name: Latitudine, Length: 2635, dtype: bool"
      ]
     },
     "execution_count": 42,
     "metadata": {},
     "output_type": "execute_result"
    }
   ],
   "source": [
    "filtro_lat45 = df_bar.loc[:, 'Latitudine'] >= 45\n",
    "filtro_lat46 = df_bar.loc[:, 'Latitudine'] <= 46\n",
    "\n",
    "filtro_lat = filtro_lat45 & filtro_lat46\n",
    "filtro_lat"
   ]
  },
  {
   "cell_type": "code",
   "execution_count": 43,
   "id": "e91a187b-b7f8-4701-abb1-e5408b7a4bd3",
   "metadata": {},
   "outputs": [
    {
     "data": {
      "text/plain": [
       "0       False\n",
       "1       False\n",
       "2        True\n",
       "3       False\n",
       "4       False\n",
       "        ...  \n",
       "2630    False\n",
       "2631    False\n",
       "2632    False\n",
       "2633    False\n",
       "2634    False\n",
       "Name: Longitudine, Length: 2635, dtype: bool"
      ]
     },
     "execution_count": 43,
     "metadata": {},
     "output_type": "execute_result"
    }
   ],
   "source": [
    "filtro_long9 = df_bar.loc[:, 'Longitudine'] >= 9\n",
    "filtro_long10 = df_bar.loc[:, 'Longitudine'] <= 10\n",
    "\n",
    "filtro_long = filtro_long9 & filtro_long10\n",
    "filtro_long"
   ]
  },
  {
   "cell_type": "code",
   "execution_count": 39,
   "id": "7c229a40-44f6-4a44-a96f-4a0040fdbb13",
   "metadata": {},
   "outputs": [
    {
     "data": {
      "text/plain": [
       "277"
      ]
     },
     "execution_count": 39,
     "metadata": {},
     "output_type": "execute_result"
    }
   ],
   "source": [
    "filtro = filtro_lat & filtro_long\n",
    "df_bar['Nome'].loc[filtro].count()"
   ]
  },
  {
   "cell_type": "code",
   "execution_count": 45,
   "id": "fd4e425f-1f8a-45ba-abf4-813fe8adc2e3",
   "metadata": {},
   "outputs": [
    {
     "data": {
      "text/plain": [
       "Comune                             73\n",
       "Provincia                          73\n",
       "Regione                            73\n",
       "Nome                               69\n",
       "Anno inserimento                   73\n",
       "Data e ora inserimento             73\n",
       "Identificatore in OpenStreetMap    73\n",
       "Longitudine                        73\n",
       "Latitudine                         73\n",
       "dtype: int64"
      ]
     },
     "execution_count": 45,
     "metadata": {},
     "output_type": "execute_result"
    }
   ],
   "source": [
    "vicenza = df_bar.loc[:, 'Provincia'] == 'VICENZA'\n",
    "df_bar.loc[vicenza].count()"
   ]
  },
  {
   "cell_type": "code",
   "execution_count": 15,
   "id": "d24121c5-56c5-415b-b316-a46f7bf381e4",
   "metadata": {},
   "outputs": [
    {
     "data": {
      "text/plain": [
       "['Pout Pourrì Vintage Cafè',\n",
       " 'Vineria del Pozzo',\n",
       " 'Vinyl',\n",
       " 'Vinile Disco Pub',\n",
       " 'Vinile Lato B',\n",
       " 'Vini e Cucina Blasi',\n",
       " 'Vini e Cucina Blasi',\n",
       " 'Vini e Olii',\n",
       " 'Vini e Olii',\n",
       " 'Enoteca con Cucina\"\"Tirolin\"\"',\n",
       " 'Enotika',\n",
       " 'Concordia Enoteca',\n",
       " 'Enostrano',\n",
       " 'Enoteca Umberto',\n",
       " 'Enoteca \"\"Al Brindisi\"\"',\n",
       " 'Enoteca \"\"da Massimo\"\"',\n",
       " 'Enoteca Il Violino Rosso',\n",
       " 'Enos Pub',\n",
       " 'Enoteca con Cucina\"\"Tirolin\"\"',\n",
       " 'Concordia Enoteca',\n",
       " 'Enoteca Umberto',\n",
       " 'Enoteca \"\"Al Brindisi\"\"',\n",
       " 'Enoteca \"\"da Massimo\"\"',\n",
       " 'Enoteca Il Violino Rosso',\n",
       " 'La Cantina dei Giusti',\n",
       " 'Cantina del Gega',\n",
       " 'Cantina del Pozzo',\n",
       " 'La Cantina di Pasquale',\n",
       " 'La Cantina delle Streghe',\n",
       " 'Il Dodo Beer Wine and Food',\n",
       " 'Wine & Cofee sound',\n",
       " 'Cortivo Risto Wine Pub',\n",
       " 'Sottosopra Food Beer and Wine',\n",
       " 'Sottosopra Food Beer and Wine',\n",
       " 'Beer & Wine Shop',\n",
       " 'Osteria della Luna',\n",
       " 'Osteria delle Erbe',\n",
       " 'Osteria della Birra',\n",
       " 'Osteria Il Bianchino',\n",
       " 'Osteria del Party',\n",
       " 'Osteria Sottovento',\n",
       " 'Osteria Pub Al Laghet',\n",
       " 'Osteria Bottiglieria Zampieri - La Mandorla',\n",
       " 'Osteria Fuori Porta',\n",
       " 'Osteria La Cantineta',\n",
       " 'Osteria La Caneva',\n",
       " 'Vecchia Osteria Bertiaga',\n",
       " 'Osteria Moderna',\n",
       " 'Osteria Posmon',\n",
       " 'Osteria Senza Oste',\n",
       " 'Osteria \"\"Amici Miei\"\"',\n",
       " 'Osteria Antica Adelaide',\n",
       " 'Osteria Antica Adelaide',\n",
       " 'Osteria Portego',\n",
       " 'Osteria Portego',\n",
       " 'Osteria 2 Draghi',\n",
       " 'Osteria Candoni',\n",
       " \"Osteria all'Orso\",\n",
       " 'Osteria Rive Grande',\n",
       " 'Osteria Di Fuoriporta',\n",
       " 'Osteria della birra artigianale / Kr?ma pri dom',\n",
       " 'Osteria da Giovanni',\n",
       " 'Osteria Solferino',\n",
       " 'Osteria del Lupo',\n",
       " 'Osteria del Dolce e Salato',\n",
       " \"Osteria Pub L'Ariosto\",\n",
       " \"Osteria Pub L'Ariosto\",\n",
       " 'Osteria La Vecchia',\n",
       " 'Osteria Garibaldi']"
      ]
     },
     "execution_count": 15,
     "metadata": {},
     "output_type": "execute_result"
    }
   ],
   "source": [
    "eno_list = ['Vin', 'Eno', 'Enoteca', 'Cantina', 'Wine', 'Osteria']\n",
    "eno_from_df = []\n",
    "for i in eno_list:\n",
    "    for nome in df_bar['Nome']:\n",
    "        if type(nome) == str and i in nome:\n",
    "            eno_from_df.append(nome)\n",
    "\n",
    "eno_from_df"
   ]
  },
  {
   "cell_type": "code",
   "execution_count": 57,
   "id": "c5304eef-b168-4e67-99eb-949a7da4071a",
   "metadata": {},
   "outputs": [
    {
     "data": {
      "text/plain": [
       "337"
      ]
     },
     "execution_count": 57,
     "metadata": {},
     "output_type": "execute_result"
    }
   ],
   "source": [
    "filtro_abruzzo = df_bar.loc[:, 'Regione'] == 'Abruzzo'\n",
    "filtro_lazio = df_bar.loc[:, 'Regione'] == 'Lazio'\n",
    "\n",
    "filtro_regioni = filtro_abruzzo | filtro_lazio\n",
    "df_bar['Anno inserimento'].loc[filtro_regioni].count()"
   ]
  },
  {
   "cell_type": "markdown",
   "id": "0d764ec7-a651-4874-bdd4-b9a7fe093ca7",
   "metadata": {},
   "source": [
    "Il dataset insurance.csv dei beginner_datasets contiene dati su caratteristiche e abitudini delle persone rispetto ai costi individuali per le cure mediche come premio per le assicurazioni sulla salute. • Visualizziamone le dimensioni, un'anteprima, e osserviamo i nomi di colonna; • Quali sono le medie di charges rispetto a region? Ci sono differenze significative? • E rispetto a smoker? E a sex? • Quali sono i descrittori statistici di bmi? Quali sono minimo, media e massimo di charges rispetto ai diversi quartili dei valori di bmi? usare metodo groupby"
   ]
  },
  {
   "cell_type": "code",
   "execution_count": 58,
   "id": "82f05054-e7eb-40b1-b6a5-958d44e77525",
   "metadata": {},
   "outputs": [],
   "source": [
    "insurance = pd.read_csv('insurance.csv')"
   ]
  },
  {
   "cell_type": "code",
   "execution_count": 59,
   "id": "3cd28654-8161-482f-8498-3e18b08fa8a2",
   "metadata": {},
   "outputs": [
    {
     "data": {
      "text/plain": [
       "(1338, 7)"
      ]
     },
     "execution_count": 59,
     "metadata": {},
     "output_type": "execute_result"
    }
   ],
   "source": [
    "insurance.shape"
   ]
  },
  {
   "cell_type": "code",
   "execution_count": 60,
   "id": "81a2b18f-eb0c-4356-944f-d60d18072af4",
   "metadata": {},
   "outputs": [
    {
     "data": {
      "text/plain": [
       "Index(['age', 'sex', 'bmi', 'children', 'smoker', 'region', 'charges'], dtype='object')"
      ]
     },
     "execution_count": 60,
     "metadata": {},
     "output_type": "execute_result"
    }
   ],
   "source": [
    "insurance.columns"
   ]
  },
  {
   "cell_type": "code",
   "execution_count": 61,
   "id": "2185f5ec-9005-44a2-8bdf-99d22173ddf8",
   "metadata": {},
   "outputs": [
    {
     "data": {
      "text/html": [
       "<div>\n",
       "<style scoped>\n",
       "    .dataframe tbody tr th:only-of-type {\n",
       "        vertical-align: middle;\n",
       "    }\n",
       "\n",
       "    .dataframe tbody tr th {\n",
       "        vertical-align: top;\n",
       "    }\n",
       "\n",
       "    .dataframe thead th {\n",
       "        text-align: right;\n",
       "    }\n",
       "</style>\n",
       "<table border=\"1\" class=\"dataframe\">\n",
       "  <thead>\n",
       "    <tr style=\"text-align: right;\">\n",
       "      <th></th>\n",
       "      <th>age</th>\n",
       "      <th>sex</th>\n",
       "      <th>bmi</th>\n",
       "      <th>children</th>\n",
       "      <th>smoker</th>\n",
       "      <th>region</th>\n",
       "      <th>charges</th>\n",
       "    </tr>\n",
       "  </thead>\n",
       "  <tbody>\n",
       "    <tr>\n",
       "      <th>1328</th>\n",
       "      <td>23</td>\n",
       "      <td>female</td>\n",
       "      <td>24.225</td>\n",
       "      <td>2</td>\n",
       "      <td>no</td>\n",
       "      <td>northeast</td>\n",
       "      <td>22395.74424</td>\n",
       "    </tr>\n",
       "    <tr>\n",
       "      <th>792</th>\n",
       "      <td>22</td>\n",
       "      <td>female</td>\n",
       "      <td>23.180</td>\n",
       "      <td>0</td>\n",
       "      <td>no</td>\n",
       "      <td>northeast</td>\n",
       "      <td>2731.91220</td>\n",
       "    </tr>\n",
       "    <tr>\n",
       "      <th>388</th>\n",
       "      <td>26</td>\n",
       "      <td>female</td>\n",
       "      <td>22.610</td>\n",
       "      <td>0</td>\n",
       "      <td>no</td>\n",
       "      <td>northwest</td>\n",
       "      <td>3176.81590</td>\n",
       "    </tr>\n",
       "    <tr>\n",
       "      <th>174</th>\n",
       "      <td>24</td>\n",
       "      <td>female</td>\n",
       "      <td>33.345</td>\n",
       "      <td>0</td>\n",
       "      <td>no</td>\n",
       "      <td>northwest</td>\n",
       "      <td>2855.43755</td>\n",
       "    </tr>\n",
       "    <tr>\n",
       "      <th>735</th>\n",
       "      <td>49</td>\n",
       "      <td>female</td>\n",
       "      <td>34.770</td>\n",
       "      <td>1</td>\n",
       "      <td>no</td>\n",
       "      <td>northwest</td>\n",
       "      <td>9583.89330</td>\n",
       "    </tr>\n",
       "  </tbody>\n",
       "</table>\n",
       "</div>"
      ],
      "text/plain": [
       "      age     sex     bmi  children smoker     region      charges\n",
       "1328   23  female  24.225         2     no  northeast  22395.74424\n",
       "792    22  female  23.180         0     no  northeast   2731.91220\n",
       "388    26  female  22.610         0     no  northwest   3176.81590\n",
       "174    24  female  33.345         0     no  northwest   2855.43755\n",
       "735    49  female  34.770         1     no  northwest   9583.89330"
      ]
     },
     "execution_count": 61,
     "metadata": {},
     "output_type": "execute_result"
    }
   ],
   "source": [
    "insurance.sample(5)"
   ]
  },
  {
   "cell_type": "code",
   "execution_count": 64,
   "id": "9fbda2d3-2c7a-4553-b79e-0f1d257c2898",
   "metadata": {},
   "outputs": [
    {
     "data": {
      "text/plain": [
       "region\n",
       "northeast    13406.384516\n",
       "northwest    12417.575374\n",
       "southeast    14735.411438\n",
       "southwest    12346.937377\n",
       "Name: charges, dtype: float64"
      ]
     },
     "execution_count": 64,
     "metadata": {},
     "output_type": "execute_result"
    }
   ],
   "source": [
    "insurance.groupby('region').charges.mean()"
   ]
  },
  {
   "cell_type": "code",
   "execution_count": 65,
   "id": "e747b1df-5ddd-4e0c-8ffe-87ebc9b8f790",
   "metadata": {},
   "outputs": [
    {
     "data": {
      "text/plain": [
       "smoker\n",
       "no      8434.268298\n",
       "yes    32050.231832\n",
       "Name: charges, dtype: float64"
      ]
     },
     "execution_count": 65,
     "metadata": {},
     "output_type": "execute_result"
    }
   ],
   "source": [
    "insurance.groupby('smoker').charges.mean()"
   ]
  },
  {
   "cell_type": "code",
   "execution_count": 66,
   "id": "0b204cf5-9a0b-413a-935b-c317b4ba446f",
   "metadata": {},
   "outputs": [
    {
     "data": {
      "text/plain": [
       "sex\n",
       "female    12569.578844\n",
       "male      13956.751178\n",
       "Name: charges, dtype: float64"
      ]
     },
     "execution_count": 66,
     "metadata": {},
     "output_type": "execute_result"
    }
   ],
   "source": [
    "insurance.groupby('sex').charges.mean()"
   ]
  },
  {
   "cell_type": "code",
   "execution_count": 69,
   "id": "4e2cc102-f9d8-46ba-9512-918b1967d7ec",
   "metadata": {},
   "outputs": [
    {
     "data": {
      "text/html": [
       "<div>\n",
       "<style scoped>\n",
       "    .dataframe tbody tr th:only-of-type {\n",
       "        vertical-align: middle;\n",
       "    }\n",
       "\n",
       "    .dataframe tbody tr th {\n",
       "        vertical-align: top;\n",
       "    }\n",
       "\n",
       "    .dataframe thead th {\n",
       "        text-align: right;\n",
       "    }\n",
       "</style>\n",
       "<table border=\"1\" class=\"dataframe\">\n",
       "  <thead>\n",
       "    <tr style=\"text-align: right;\">\n",
       "      <th></th>\n",
       "      <th>count</th>\n",
       "      <th>mean</th>\n",
       "      <th>std</th>\n",
       "      <th>min</th>\n",
       "      <th>25%</th>\n",
       "      <th>50%</th>\n",
       "      <th>75%</th>\n",
       "      <th>max</th>\n",
       "    </tr>\n",
       "    <tr>\n",
       "      <th>bmi</th>\n",
       "      <th></th>\n",
       "      <th></th>\n",
       "      <th></th>\n",
       "      <th></th>\n",
       "      <th></th>\n",
       "      <th></th>\n",
       "      <th></th>\n",
       "      <th></th>\n",
       "    </tr>\n",
       "  </thead>\n",
       "  <tbody>\n",
       "    <tr>\n",
       "      <th>15.960</th>\n",
       "      <td>1.0</td>\n",
       "      <td>1694.796400</td>\n",
       "      <td>NaN</td>\n",
       "      <td>1694.79640</td>\n",
       "      <td>1694.79640</td>\n",
       "      <td>1694.79640</td>\n",
       "      <td>1694.79640</td>\n",
       "      <td>1694.79640</td>\n",
       "    </tr>\n",
       "    <tr>\n",
       "      <th>16.815</th>\n",
       "      <td>2.0</td>\n",
       "      <td>4904.000350</td>\n",
       "      <td>2455.844784</td>\n",
       "      <td>3167.45585</td>\n",
       "      <td>4035.72810</td>\n",
       "      <td>4904.00035</td>\n",
       "      <td>5772.27260</td>\n",
       "      <td>6640.54485</td>\n",
       "    </tr>\n",
       "    <tr>\n",
       "      <th>17.195</th>\n",
       "      <td>1.0</td>\n",
       "      <td>14455.644050</td>\n",
       "      <td>NaN</td>\n",
       "      <td>14455.64405</td>\n",
       "      <td>14455.64405</td>\n",
       "      <td>14455.64405</td>\n",
       "      <td>14455.64405</td>\n",
       "      <td>14455.64405</td>\n",
       "    </tr>\n",
       "    <tr>\n",
       "      <th>17.290</th>\n",
       "      <td>3.0</td>\n",
       "      <td>7813.353433</td>\n",
       "      <td>4619.986089</td>\n",
       "      <td>3732.62510</td>\n",
       "      <td>5305.30260</td>\n",
       "      <td>6877.98010</td>\n",
       "      <td>9853.71760</td>\n",
       "      <td>12829.45510</td>\n",
       "    </tr>\n",
       "    <tr>\n",
       "      <th>17.385</th>\n",
       "      <td>1.0</td>\n",
       "      <td>2775.192150</td>\n",
       "      <td>NaN</td>\n",
       "      <td>2775.19215</td>\n",
       "      <td>2775.19215</td>\n",
       "      <td>2775.19215</td>\n",
       "      <td>2775.19215</td>\n",
       "      <td>2775.19215</td>\n",
       "    </tr>\n",
       "    <tr>\n",
       "      <th>...</th>\n",
       "      <td>...</td>\n",
       "      <td>...</td>\n",
       "      <td>...</td>\n",
       "      <td>...</td>\n",
       "      <td>...</td>\n",
       "      <td>...</td>\n",
       "      <td>...</td>\n",
       "      <td>...</td>\n",
       "    </tr>\n",
       "    <tr>\n",
       "      <th>48.070</th>\n",
       "      <td>1.0</td>\n",
       "      <td>9432.925300</td>\n",
       "      <td>NaN</td>\n",
       "      <td>9432.92530</td>\n",
       "      <td>9432.92530</td>\n",
       "      <td>9432.92530</td>\n",
       "      <td>9432.92530</td>\n",
       "      <td>9432.92530</td>\n",
       "    </tr>\n",
       "    <tr>\n",
       "      <th>49.060</th>\n",
       "      <td>1.0</td>\n",
       "      <td>11381.325400</td>\n",
       "      <td>NaN</td>\n",
       "      <td>11381.32540</td>\n",
       "      <td>11381.32540</td>\n",
       "      <td>11381.32540</td>\n",
       "      <td>11381.32540</td>\n",
       "      <td>11381.32540</td>\n",
       "    </tr>\n",
       "    <tr>\n",
       "      <th>50.380</th>\n",
       "      <td>1.0</td>\n",
       "      <td>2438.055200</td>\n",
       "      <td>NaN</td>\n",
       "      <td>2438.05520</td>\n",
       "      <td>2438.05520</td>\n",
       "      <td>2438.05520</td>\n",
       "      <td>2438.05520</td>\n",
       "      <td>2438.05520</td>\n",
       "    </tr>\n",
       "    <tr>\n",
       "      <th>52.580</th>\n",
       "      <td>1.0</td>\n",
       "      <td>44501.398200</td>\n",
       "      <td>NaN</td>\n",
       "      <td>44501.39820</td>\n",
       "      <td>44501.39820</td>\n",
       "      <td>44501.39820</td>\n",
       "      <td>44501.39820</td>\n",
       "      <td>44501.39820</td>\n",
       "    </tr>\n",
       "    <tr>\n",
       "      <th>53.130</th>\n",
       "      <td>1.0</td>\n",
       "      <td>1163.462700</td>\n",
       "      <td>NaN</td>\n",
       "      <td>1163.46270</td>\n",
       "      <td>1163.46270</td>\n",
       "      <td>1163.46270</td>\n",
       "      <td>1163.46270</td>\n",
       "      <td>1163.46270</td>\n",
       "    </tr>\n",
       "  </tbody>\n",
       "</table>\n",
       "<p>548 rows × 8 columns</p>\n",
       "</div>"
      ],
      "text/plain": [
       "        count          mean          std          min          25%  \\\n",
       "bmi                                                                  \n",
       "15.960    1.0   1694.796400          NaN   1694.79640   1694.79640   \n",
       "16.815    2.0   4904.000350  2455.844784   3167.45585   4035.72810   \n",
       "17.195    1.0  14455.644050          NaN  14455.64405  14455.64405   \n",
       "17.290    3.0   7813.353433  4619.986089   3732.62510   5305.30260   \n",
       "17.385    1.0   2775.192150          NaN   2775.19215   2775.19215   \n",
       "...       ...           ...          ...          ...          ...   \n",
       "48.070    1.0   9432.925300          NaN   9432.92530   9432.92530   \n",
       "49.060    1.0  11381.325400          NaN  11381.32540  11381.32540   \n",
       "50.380    1.0   2438.055200          NaN   2438.05520   2438.05520   \n",
       "52.580    1.0  44501.398200          NaN  44501.39820  44501.39820   \n",
       "53.130    1.0   1163.462700          NaN   1163.46270   1163.46270   \n",
       "\n",
       "                50%          75%          max  \n",
       "bmi                                            \n",
       "15.960   1694.79640   1694.79640   1694.79640  \n",
       "16.815   4904.00035   5772.27260   6640.54485  \n",
       "17.195  14455.64405  14455.64405  14455.64405  \n",
       "17.290   6877.98010   9853.71760  12829.45510  \n",
       "17.385   2775.19215   2775.19215   2775.19215  \n",
       "...             ...          ...          ...  \n",
       "48.070   9432.92530   9432.92530   9432.92530  \n",
       "49.060  11381.32540  11381.32540  11381.32540  \n",
       "50.380   2438.05520   2438.05520   2438.05520  \n",
       "52.580  44501.39820  44501.39820  44501.39820  \n",
       "53.130   1163.46270   1163.46270   1163.46270  \n",
       "\n",
       "[548 rows x 8 columns]"
      ]
     },
     "execution_count": 69,
     "metadata": {},
     "output_type": "execute_result"
    }
   ],
   "source": [
    "insurance.groupby('bmi').charges.describe()"
   ]
  },
  {
   "cell_type": "code",
   "execution_count": 74,
   "id": "692d25fc-9549-4c8d-8d24-b0dfec03a19e",
   "metadata": {},
   "outputs": [],
   "source": [
    "url = \"https://archive.ics.uci.edu/ml/machine-learning-databases/iris/iris.data\" \n",
    "column_names = [\"sepal_length\", \"sepal_width\", \"petal_length\", \"petal_width\", \"species\"] # questo csv non ha intestazioni\n",
    "iris = pd.read_csv(url, names=column_names)"
   ]
  },
  {
   "cell_type": "markdown",
   "id": "ecb9dbe1-1f5e-4364-9efa-1c7ba023d447",
   "metadata": {},
   "source": [
    "Carichiamo in un DataFrame il dataset iris.csv dei beginner_datasets e calcoliamo: • La media della lunghezza dei petali di tutto il dataset • La media della lunghezza dei petali per ogni specie di Iris, utilizzando il metodo .groupby() • Media, minimo e massimo della larghezza dei sepali per ogni specie, utilizzando .groupby() e .agg()"
   ]
  },
  {
   "cell_type": "code",
   "execution_count": 76,
   "id": "753192c0-8645-4b34-a19a-5886eabfbfc7",
   "metadata": {},
   "outputs": [
    {
     "data": {
      "text/plain": [
       "3.758666666666666"
      ]
     },
     "execution_count": 76,
     "metadata": {},
     "output_type": "execute_result"
    }
   ],
   "source": [
    "iris['petal_length'].mean()"
   ]
  },
  {
   "cell_type": "code",
   "execution_count": 77,
   "id": "7951e20f-a6fa-4fc5-9d58-d256da43e02b",
   "metadata": {},
   "outputs": [
    {
     "data": {
      "text/plain": [
       "species\n",
       "Iris-setosa        1.464\n",
       "Iris-versicolor    4.260\n",
       "Iris-virginica     5.552\n",
       "Name: petal_length, dtype: float64"
      ]
     },
     "execution_count": 77,
     "metadata": {},
     "output_type": "execute_result"
    }
   ],
   "source": [
    "iris.groupby('species').petal_length.mean()"
   ]
  },
  {
   "cell_type": "code",
   "execution_count": 79,
   "id": "bff0d9d5-a513-426e-9484-00f1966bd1d4",
   "metadata": {},
   "outputs": [
    {
     "data": {
      "text/html": [
       "<div>\n",
       "<style scoped>\n",
       "    .dataframe tbody tr th:only-of-type {\n",
       "        vertical-align: middle;\n",
       "    }\n",
       "\n",
       "    .dataframe tbody tr th {\n",
       "        vertical-align: top;\n",
       "    }\n",
       "\n",
       "    .dataframe thead th {\n",
       "        text-align: right;\n",
       "    }\n",
       "</style>\n",
       "<table border=\"1\" class=\"dataframe\">\n",
       "  <thead>\n",
       "    <tr style=\"text-align: right;\">\n",
       "      <th></th>\n",
       "      <th>min</th>\n",
       "      <th>max</th>\n",
       "      <th>mean</th>\n",
       "    </tr>\n",
       "    <tr>\n",
       "      <th>species</th>\n",
       "      <th></th>\n",
       "      <th></th>\n",
       "      <th></th>\n",
       "    </tr>\n",
       "  </thead>\n",
       "  <tbody>\n",
       "    <tr>\n",
       "      <th>Iris-setosa</th>\n",
       "      <td>2.3</td>\n",
       "      <td>4.4</td>\n",
       "      <td>3.418</td>\n",
       "    </tr>\n",
       "    <tr>\n",
       "      <th>Iris-versicolor</th>\n",
       "      <td>2.0</td>\n",
       "      <td>3.4</td>\n",
       "      <td>2.770</td>\n",
       "    </tr>\n",
       "    <tr>\n",
       "      <th>Iris-virginica</th>\n",
       "      <td>2.2</td>\n",
       "      <td>3.8</td>\n",
       "      <td>2.974</td>\n",
       "    </tr>\n",
       "  </tbody>\n",
       "</table>\n",
       "</div>"
      ],
      "text/plain": [
       "                 min  max   mean\n",
       "species                         \n",
       "Iris-setosa      2.3  4.4  3.418\n",
       "Iris-versicolor  2.0  3.4  2.770\n",
       "Iris-virginica   2.2  3.8  2.974"
      ]
     },
     "execution_count": 79,
     "metadata": {},
     "output_type": "execute_result"
    }
   ],
   "source": [
    "iris.groupby('species').sepal_width.agg(['min', 'max', 'mean'])"
   ]
  },
  {
   "cell_type": "markdown",
   "id": "7746d6f8-6e4e-499a-815c-32a76219bb5c",
   "metadata": {},
   "source": [
    "il dataset wine.csv contiene delle analisi organolettiche su diverse qualità di vini: • Qual è la media di concentrazione alcolica per ogni qualità? Ci sono differenze? E rispetto alla media totale? • C'è differenza nella concentrazione alcolica per vini bianchi e vini rossi? • Rifacendo le analisi dei due punti precedenti ma per il pH, cambia qualcosa? • E per i solfati?"
   ]
  },
  {
   "cell_type": "code",
   "execution_count": 81,
   "id": "4adb8ad8-50eb-4103-a82a-edaf8a095281",
   "metadata": {},
   "outputs": [
    {
     "data": {
      "text/html": [
       "<div>\n",
       "<style scoped>\n",
       "    .dataframe tbody tr th:only-of-type {\n",
       "        vertical-align: middle;\n",
       "    }\n",
       "\n",
       "    .dataframe tbody tr th {\n",
       "        vertical-align: top;\n",
       "    }\n",
       "\n",
       "    .dataframe thead th {\n",
       "        text-align: right;\n",
       "    }\n",
       "</style>\n",
       "<table border=\"1\" class=\"dataframe\">\n",
       "  <thead>\n",
       "    <tr style=\"text-align: right;\">\n",
       "      <th></th>\n",
       "      <th>fixed acidity</th>\n",
       "      <th>volatile acidity</th>\n",
       "      <th>citric acid</th>\n",
       "      <th>residual sugar</th>\n",
       "      <th>chlorides</th>\n",
       "      <th>free sulfur dioxide</th>\n",
       "      <th>total sulfur dioxide</th>\n",
       "      <th>density</th>\n",
       "      <th>pH</th>\n",
       "      <th>sulphates</th>\n",
       "      <th>alcohol</th>\n",
       "      <th>quality</th>\n",
       "      <th>type</th>\n",
       "    </tr>\n",
       "  </thead>\n",
       "  <tbody>\n",
       "    <tr>\n",
       "      <th>0</th>\n",
       "      <td>7.4</td>\n",
       "      <td>0.70</td>\n",
       "      <td>0.00</td>\n",
       "      <td>1.9</td>\n",
       "      <td>0.076</td>\n",
       "      <td>11.0</td>\n",
       "      <td>34.0</td>\n",
       "      <td>0.99780</td>\n",
       "      <td>3.51</td>\n",
       "      <td>0.56</td>\n",
       "      <td>9.4</td>\n",
       "      <td>5</td>\n",
       "      <td>red</td>\n",
       "    </tr>\n",
       "    <tr>\n",
       "      <th>1</th>\n",
       "      <td>7.8</td>\n",
       "      <td>0.88</td>\n",
       "      <td>0.00</td>\n",
       "      <td>2.6</td>\n",
       "      <td>0.098</td>\n",
       "      <td>25.0</td>\n",
       "      <td>67.0</td>\n",
       "      <td>0.99680</td>\n",
       "      <td>3.20</td>\n",
       "      <td>0.68</td>\n",
       "      <td>9.8</td>\n",
       "      <td>5</td>\n",
       "      <td>red</td>\n",
       "    </tr>\n",
       "    <tr>\n",
       "      <th>2</th>\n",
       "      <td>7.8</td>\n",
       "      <td>0.76</td>\n",
       "      <td>0.04</td>\n",
       "      <td>2.3</td>\n",
       "      <td>0.092</td>\n",
       "      <td>15.0</td>\n",
       "      <td>54.0</td>\n",
       "      <td>0.99700</td>\n",
       "      <td>3.26</td>\n",
       "      <td>0.65</td>\n",
       "      <td>9.8</td>\n",
       "      <td>5</td>\n",
       "      <td>red</td>\n",
       "    </tr>\n",
       "    <tr>\n",
       "      <th>3</th>\n",
       "      <td>11.2</td>\n",
       "      <td>0.28</td>\n",
       "      <td>0.56</td>\n",
       "      <td>1.9</td>\n",
       "      <td>0.075</td>\n",
       "      <td>17.0</td>\n",
       "      <td>60.0</td>\n",
       "      <td>0.99800</td>\n",
       "      <td>3.16</td>\n",
       "      <td>0.58</td>\n",
       "      <td>9.8</td>\n",
       "      <td>6</td>\n",
       "      <td>red</td>\n",
       "    </tr>\n",
       "    <tr>\n",
       "      <th>4</th>\n",
       "      <td>7.4</td>\n",
       "      <td>0.70</td>\n",
       "      <td>0.00</td>\n",
       "      <td>1.9</td>\n",
       "      <td>0.076</td>\n",
       "      <td>11.0</td>\n",
       "      <td>34.0</td>\n",
       "      <td>0.99780</td>\n",
       "      <td>3.51</td>\n",
       "      <td>0.56</td>\n",
       "      <td>9.4</td>\n",
       "      <td>5</td>\n",
       "      <td>red</td>\n",
       "    </tr>\n",
       "    <tr>\n",
       "      <th>...</th>\n",
       "      <td>...</td>\n",
       "      <td>...</td>\n",
       "      <td>...</td>\n",
       "      <td>...</td>\n",
       "      <td>...</td>\n",
       "      <td>...</td>\n",
       "      <td>...</td>\n",
       "      <td>...</td>\n",
       "      <td>...</td>\n",
       "      <td>...</td>\n",
       "      <td>...</td>\n",
       "      <td>...</td>\n",
       "      <td>...</td>\n",
       "    </tr>\n",
       "    <tr>\n",
       "      <th>6492</th>\n",
       "      <td>6.2</td>\n",
       "      <td>0.21</td>\n",
       "      <td>0.29</td>\n",
       "      <td>1.6</td>\n",
       "      <td>0.039</td>\n",
       "      <td>24.0</td>\n",
       "      <td>92.0</td>\n",
       "      <td>0.99114</td>\n",
       "      <td>3.27</td>\n",
       "      <td>0.50</td>\n",
       "      <td>11.2</td>\n",
       "      <td>6</td>\n",
       "      <td>white</td>\n",
       "    </tr>\n",
       "    <tr>\n",
       "      <th>6493</th>\n",
       "      <td>6.6</td>\n",
       "      <td>0.32</td>\n",
       "      <td>0.36</td>\n",
       "      <td>8.0</td>\n",
       "      <td>0.047</td>\n",
       "      <td>57.0</td>\n",
       "      <td>168.0</td>\n",
       "      <td>0.99490</td>\n",
       "      <td>3.15</td>\n",
       "      <td>0.46</td>\n",
       "      <td>9.6</td>\n",
       "      <td>5</td>\n",
       "      <td>white</td>\n",
       "    </tr>\n",
       "    <tr>\n",
       "      <th>6494</th>\n",
       "      <td>6.5</td>\n",
       "      <td>0.24</td>\n",
       "      <td>0.19</td>\n",
       "      <td>1.2</td>\n",
       "      <td>0.041</td>\n",
       "      <td>30.0</td>\n",
       "      <td>111.0</td>\n",
       "      <td>0.99254</td>\n",
       "      <td>2.99</td>\n",
       "      <td>0.46</td>\n",
       "      <td>9.4</td>\n",
       "      <td>6</td>\n",
       "      <td>white</td>\n",
       "    </tr>\n",
       "    <tr>\n",
       "      <th>6495</th>\n",
       "      <td>5.5</td>\n",
       "      <td>0.29</td>\n",
       "      <td>0.30</td>\n",
       "      <td>1.1</td>\n",
       "      <td>0.022</td>\n",
       "      <td>20.0</td>\n",
       "      <td>110.0</td>\n",
       "      <td>0.98869</td>\n",
       "      <td>3.34</td>\n",
       "      <td>0.38</td>\n",
       "      <td>12.8</td>\n",
       "      <td>7</td>\n",
       "      <td>white</td>\n",
       "    </tr>\n",
       "    <tr>\n",
       "      <th>6496</th>\n",
       "      <td>6.0</td>\n",
       "      <td>0.21</td>\n",
       "      <td>0.38</td>\n",
       "      <td>0.8</td>\n",
       "      <td>0.020</td>\n",
       "      <td>22.0</td>\n",
       "      <td>98.0</td>\n",
       "      <td>0.98941</td>\n",
       "      <td>3.26</td>\n",
       "      <td>0.32</td>\n",
       "      <td>11.8</td>\n",
       "      <td>6</td>\n",
       "      <td>white</td>\n",
       "    </tr>\n",
       "  </tbody>\n",
       "</table>\n",
       "<p>6497 rows × 13 columns</p>\n",
       "</div>"
      ],
      "text/plain": [
       "      fixed acidity  volatile acidity  citric acid  residual sugar  chlorides  \\\n",
       "0               7.4              0.70         0.00             1.9      0.076   \n",
       "1               7.8              0.88         0.00             2.6      0.098   \n",
       "2               7.8              0.76         0.04             2.3      0.092   \n",
       "3              11.2              0.28         0.56             1.9      0.075   \n",
       "4               7.4              0.70         0.00             1.9      0.076   \n",
       "...             ...               ...          ...             ...        ...   \n",
       "6492            6.2              0.21         0.29             1.6      0.039   \n",
       "6493            6.6              0.32         0.36             8.0      0.047   \n",
       "6494            6.5              0.24         0.19             1.2      0.041   \n",
       "6495            5.5              0.29         0.30             1.1      0.022   \n",
       "6496            6.0              0.21         0.38             0.8      0.020   \n",
       "\n",
       "      free sulfur dioxide  total sulfur dioxide  density    pH  sulphates  \\\n",
       "0                    11.0                  34.0  0.99780  3.51       0.56   \n",
       "1                    25.0                  67.0  0.99680  3.20       0.68   \n",
       "2                    15.0                  54.0  0.99700  3.26       0.65   \n",
       "3                    17.0                  60.0  0.99800  3.16       0.58   \n",
       "4                    11.0                  34.0  0.99780  3.51       0.56   \n",
       "...                   ...                   ...      ...   ...        ...   \n",
       "6492                 24.0                  92.0  0.99114  3.27       0.50   \n",
       "6493                 57.0                 168.0  0.99490  3.15       0.46   \n",
       "6494                 30.0                 111.0  0.99254  2.99       0.46   \n",
       "6495                 20.0                 110.0  0.98869  3.34       0.38   \n",
       "6496                 22.0                  98.0  0.98941  3.26       0.32   \n",
       "\n",
       "      alcohol  quality   type  \n",
       "0         9.4        5    red  \n",
       "1         9.8        5    red  \n",
       "2         9.8        5    red  \n",
       "3         9.8        6    red  \n",
       "4         9.4        5    red  \n",
       "...       ...      ...    ...  \n",
       "6492     11.2        6  white  \n",
       "6493      9.6        5  white  \n",
       "6494      9.4        6  white  \n",
       "6495     12.8        7  white  \n",
       "6496     11.8        6  white  \n",
       "\n",
       "[6497 rows x 13 columns]"
      ]
     },
     "execution_count": 81,
     "metadata": {},
     "output_type": "execute_result"
    }
   ],
   "source": [
    "wine = pd.read_csv('wine.csv')\n",
    "wine"
   ]
  },
  {
   "cell_type": "code",
   "execution_count": 82,
   "id": "e5253982-aa0d-4a5e-a278-5ff2ee3ad75c",
   "metadata": {},
   "outputs": [
    {
     "data": {
      "text/plain": [
       "quality\n",
       "3    10.215000\n",
       "4    10.180093\n",
       "5     9.837783\n",
       "6    10.587553\n",
       "7    11.386006\n",
       "8    11.678756\n",
       "9    12.180000\n",
       "Name: alcohol, dtype: float64"
      ]
     },
     "execution_count": 82,
     "metadata": {},
     "output_type": "execute_result"
    }
   ],
   "source": [
    "wine.groupby('quality').alcohol.mean()"
   ]
  },
  {
   "cell_type": "code",
   "execution_count": 83,
   "id": "90c5eea0-db3b-42a3-9e33-bb34e2252490",
   "metadata": {},
   "outputs": [
    {
     "data": {
      "text/plain": [
       "10.491800831149453"
      ]
     },
     "execution_count": 83,
     "metadata": {},
     "output_type": "execute_result"
    }
   ],
   "source": [
    "wine.alcohol.mean()"
   ]
  },
  {
   "cell_type": "code",
   "execution_count": 84,
   "id": "afee2f9f-5055-41ef-9eab-a4e7b36b2b16",
   "metadata": {},
   "outputs": [
    {
     "data": {
      "text/plain": [
       "type\n",
       "red      10.422983\n",
       "white    10.514267\n",
       "Name: alcohol, dtype: float64"
      ]
     },
     "execution_count": 84,
     "metadata": {},
     "output_type": "execute_result"
    }
   ],
   "source": [
    "wine.groupby('type').alcohol.mean()"
   ]
  },
  {
   "cell_type": "code",
   "execution_count": 86,
   "id": "1ecaf042-a23b-4686-ba8b-923d18813ef5",
   "metadata": {},
   "outputs": [
    {
     "data": {
      "text/plain": [
       "quality\n",
       "3    3.257667\n",
       "4    3.231620\n",
       "5    3.212189\n",
       "6    3.217726\n",
       "7    3.228072\n",
       "8    3.223212\n",
       "9    3.308000\n",
       "Name: pH, dtype: float64"
      ]
     },
     "execution_count": 86,
     "metadata": {},
     "output_type": "execute_result"
    }
   ],
   "source": [
    "wine.groupby('quality').pH.mean()"
   ]
  },
  {
   "cell_type": "code",
   "execution_count": 87,
   "id": "8591181a-6dfd-48c4-b352-b2fe38683df0",
   "metadata": {},
   "outputs": [
    {
     "data": {
      "text/plain": [
       "type\n",
       "red      3.311113\n",
       "white    3.188267\n",
       "Name: pH, dtype: float64"
      ]
     },
     "execution_count": 87,
     "metadata": {},
     "output_type": "execute_result"
    }
   ],
   "source": [
    "wine.groupby('type').pH.mean()"
   ]
  },
  {
   "cell_type": "code",
   "execution_count": 88,
   "id": "3c3010b1-bbcb-4a6d-9daa-b90a65ab91ad",
   "metadata": {},
   "outputs": [
    {
     "data": {
      "text/plain": [
       "type   quality\n",
       "red    3           9.955000\n",
       "       4          10.265094\n",
       "       5           9.899706\n",
       "       6          10.629519\n",
       "       7          11.465913\n",
       "       8          12.094444\n",
       "white  3          10.345000\n",
       "       4          10.152454\n",
       "       5           9.808840\n",
       "       6          10.575372\n",
       "       7          11.367936\n",
       "       8          11.636000\n",
       "       9          12.180000\n",
       "Name: alcohol, dtype: float64"
      ]
     },
     "execution_count": 88,
     "metadata": {},
     "output_type": "execute_result"
    }
   ],
   "source": [
    "wine.groupby(['type', 'quality']).alcohol.mean()"
   ]
  },
  {
   "cell_type": "code",
   "execution_count": 89,
   "id": "af2f5e52-c8af-4599-b424-09a8f8d9a262",
   "metadata": {},
   "outputs": [
    {
     "data": {
      "text/plain": [
       "type   quality\n",
       "red    3          3.398000\n",
       "       4          3.381509\n",
       "       5          3.304949\n",
       "       6          3.318072\n",
       "       7          3.290754\n",
       "       8          3.267222\n",
       "white  3          3.187500\n",
       "       4          3.182883\n",
       "       5          3.168833\n",
       "       6          3.188599\n",
       "       7          3.213898\n",
       "       8          3.218686\n",
       "       9          3.308000\n",
       "Name: pH, dtype: float64"
      ]
     },
     "execution_count": 89,
     "metadata": {},
     "output_type": "execute_result"
    }
   ],
   "source": [
    "wine.groupby(['type', 'quality']).pH.mean()"
   ]
  },
  {
   "cell_type": "code",
   "execution_count": 92,
   "id": "2f26dea8-98b5-4a6e-b25b-4b2bcdd9bf14",
   "metadata": {},
   "outputs": [
    {
     "data": {
      "text/plain": [
       "type   quality\n",
       "red    3          0.570000\n",
       "       4          0.596415\n",
       "       5          0.620969\n",
       "       6          0.675329\n",
       "       7          0.741256\n",
       "       8          0.767778\n",
       "white  3          0.474500\n",
       "       4          0.476135\n",
       "       5          0.482203\n",
       "       6          0.491106\n",
       "       7          0.503102\n",
       "       8          0.486229\n",
       "       9          0.466000\n",
       "Name: sulphates, dtype: float64"
      ]
     },
     "execution_count": 92,
     "metadata": {},
     "output_type": "execute_result"
    }
   ],
   "source": [
    "wine.groupby(['type', 'quality']).sulphates.mean()"
   ]
  },
  {
   "cell_type": "code",
   "execution_count": 93,
   "id": "6f68d3a4-1568-4ae3-b074-6707346680a2",
   "metadata": {},
   "outputs": [
    {
     "data": {
      "text/plain": [
       "0.5312682776666154"
      ]
     },
     "execution_count": 93,
     "metadata": {},
     "output_type": "execute_result"
    }
   ],
   "source": [
    "wine.sulphates.mean()"
   ]
  },
  {
   "cell_type": "markdown",
   "id": "5f024a6a-af2a-4e6e-a45e-a5114eabfeda",
   "metadata": {},
   "source": [
    "il file boston.csv contiene il Boston Housing Dataset, che deriva dalle informazioni raccolte dal Census Service degli Stati Uniti sulle abitazioni nell'area di Boston. Di seguito vengono descritte le colonne del dataset: \n",
    "* CRIM -tasso di criminalità pro capite per città\n",
    "*  ZN - proporzione di terreni residenziali suddivisi in zone per lotti superiori a 25.000 piedi quadrati.\n",
    "*  INDUS - percentuale di acri di attività commerciali non al dettaglio per città.\n",
    "*  CHAS -variabile dummy del fiume Charles (1 se il tratto costeggia il fiume; 0 altrimenti)\n",
    "*  NOX -concentrazione di ossidi di azoto (parti per 10 milioni).\n",
    "*  RM -numero medio di stanze per abitazione\n",
    "*  AGE -proporzione di unità abitative occupate da proprietari costruite prima del 1940\n",
    "*  DIS - distanze ponderate da cinque centri occupazionali di Boston\n",
    "*  RAD -indice di accessibilità alle autostrade radiali\n",
    "*  TAX -aliquota dell'imposta fondiaria sul valore pieno per 10.000 dollari\n",
    "*  PTRATIO - rapporto alunni-insegnanti per città\n",
    "*  BLACK -la percentuale di neri per città\n",
    "*  LSTAT - % di popolazione di condizione più bassa\n",
    "*  MEDV -Valore mediano delle case, espresso in migliaia di dollari\n",
    "\n",
    "La media del prezzo delle case cambia a seconda della distanza dal fiume Charles? • Si nota una correlazione tra il tasso di criminalità e il valore delle abitazioni? Come si può spiegare il risultato? • Qual è la media del numero di stanze rispetto al rapporto alunni-insegnanti? E del valore delle case? Appare esserci una qualche correlazione? Come si può spiegare il risultato? • Rispetto all'accessibilità alle autostrade, cambia qualcosa la media delle età delle abitazioni? E del numero di stanze? E delle tasse?"
   ]
  },
  {
   "cell_type": "code",
   "execution_count": 101,
   "id": "c8f65140-9bb9-45a4-b5a5-cdbf5e5e50ed",
   "metadata": {},
   "outputs": [],
   "source": [
    "boston = pd.read_csv('boston.csv')"
   ]
  },
  {
   "cell_type": "code",
   "execution_count": 100,
   "id": "71487d5a-0945-4bd8-a3e1-9bb8c42ede53",
   "metadata": {
    "scrolled": true
   },
   "outputs": [
    {
     "data": {
      "text/html": [
       "<div>\n",
       "<style scoped>\n",
       "    .dataframe tbody tr th:only-of-type {\n",
       "        vertical-align: middle;\n",
       "    }\n",
       "\n",
       "    .dataframe tbody tr th {\n",
       "        vertical-align: top;\n",
       "    }\n",
       "\n",
       "    .dataframe thead th {\n",
       "        text-align: right;\n",
       "    }\n",
       "</style>\n",
       "<table border=\"1\" class=\"dataframe\">\n",
       "  <thead>\n",
       "    <tr style=\"text-align: right;\">\n",
       "      <th></th>\n",
       "      <th>crim</th>\n",
       "      <th>zn</th>\n",
       "      <th>indus</th>\n",
       "      <th>chas</th>\n",
       "      <th>nox</th>\n",
       "      <th>rm</th>\n",
       "      <th>age</th>\n",
       "      <th>dis</th>\n",
       "      <th>rad</th>\n",
       "      <th>tax</th>\n",
       "      <th>ptratio</th>\n",
       "      <th>black</th>\n",
       "      <th>lstat</th>\n",
       "      <th>medv</th>\n",
       "    </tr>\n",
       "  </thead>\n",
       "  <tbody>\n",
       "    <tr>\n",
       "      <th>crim</th>\n",
       "      <td>1.000000</td>\n",
       "      <td>-0.200469</td>\n",
       "      <td>0.406583</td>\n",
       "      <td>-0.055892</td>\n",
       "      <td>0.420972</td>\n",
       "      <td>-0.219247</td>\n",
       "      <td>0.352734</td>\n",
       "      <td>-0.379670</td>\n",
       "      <td>0.625505</td>\n",
       "      <td>0.582764</td>\n",
       "      <td>0.289946</td>\n",
       "      <td>-0.385064</td>\n",
       "      <td>0.455621</td>\n",
       "      <td>-0.388305</td>\n",
       "    </tr>\n",
       "    <tr>\n",
       "      <th>zn</th>\n",
       "      <td>-0.200469</td>\n",
       "      <td>1.000000</td>\n",
       "      <td>-0.533828</td>\n",
       "      <td>-0.042697</td>\n",
       "      <td>-0.516604</td>\n",
       "      <td>0.311991</td>\n",
       "      <td>-0.569537</td>\n",
       "      <td>0.664408</td>\n",
       "      <td>-0.311948</td>\n",
       "      <td>-0.314563</td>\n",
       "      <td>-0.391679</td>\n",
       "      <td>0.175520</td>\n",
       "      <td>-0.412995</td>\n",
       "      <td>0.360445</td>\n",
       "    </tr>\n",
       "    <tr>\n",
       "      <th>indus</th>\n",
       "      <td>0.406583</td>\n",
       "      <td>-0.533828</td>\n",
       "      <td>1.000000</td>\n",
       "      <td>0.062938</td>\n",
       "      <td>0.763651</td>\n",
       "      <td>-0.391676</td>\n",
       "      <td>0.644779</td>\n",
       "      <td>-0.708027</td>\n",
       "      <td>0.595129</td>\n",
       "      <td>0.720760</td>\n",
       "      <td>0.383248</td>\n",
       "      <td>-0.356977</td>\n",
       "      <td>0.603800</td>\n",
       "      <td>-0.483725</td>\n",
       "    </tr>\n",
       "    <tr>\n",
       "      <th>chas</th>\n",
       "      <td>-0.055892</td>\n",
       "      <td>-0.042697</td>\n",
       "      <td>0.062938</td>\n",
       "      <td>1.000000</td>\n",
       "      <td>0.091203</td>\n",
       "      <td>0.091251</td>\n",
       "      <td>0.086518</td>\n",
       "      <td>-0.099176</td>\n",
       "      <td>-0.007368</td>\n",
       "      <td>-0.035587</td>\n",
       "      <td>-0.121515</td>\n",
       "      <td>0.048788</td>\n",
       "      <td>-0.053929</td>\n",
       "      <td>0.175260</td>\n",
       "    </tr>\n",
       "    <tr>\n",
       "      <th>nox</th>\n",
       "      <td>0.420972</td>\n",
       "      <td>-0.516604</td>\n",
       "      <td>0.763651</td>\n",
       "      <td>0.091203</td>\n",
       "      <td>1.000000</td>\n",
       "      <td>-0.302188</td>\n",
       "      <td>0.731470</td>\n",
       "      <td>-0.769230</td>\n",
       "      <td>0.611441</td>\n",
       "      <td>0.668023</td>\n",
       "      <td>0.188933</td>\n",
       "      <td>-0.380051</td>\n",
       "      <td>0.590879</td>\n",
       "      <td>-0.427321</td>\n",
       "    </tr>\n",
       "    <tr>\n",
       "      <th>rm</th>\n",
       "      <td>-0.219247</td>\n",
       "      <td>0.311991</td>\n",
       "      <td>-0.391676</td>\n",
       "      <td>0.091251</td>\n",
       "      <td>-0.302188</td>\n",
       "      <td>1.000000</td>\n",
       "      <td>-0.240265</td>\n",
       "      <td>0.205246</td>\n",
       "      <td>-0.209847</td>\n",
       "      <td>-0.292048</td>\n",
       "      <td>-0.355501</td>\n",
       "      <td>0.128069</td>\n",
       "      <td>-0.613808</td>\n",
       "      <td>0.695360</td>\n",
       "    </tr>\n",
       "    <tr>\n",
       "      <th>age</th>\n",
       "      <td>0.352734</td>\n",
       "      <td>-0.569537</td>\n",
       "      <td>0.644779</td>\n",
       "      <td>0.086518</td>\n",
       "      <td>0.731470</td>\n",
       "      <td>-0.240265</td>\n",
       "      <td>1.000000</td>\n",
       "      <td>-0.747881</td>\n",
       "      <td>0.456022</td>\n",
       "      <td>0.506456</td>\n",
       "      <td>0.261515</td>\n",
       "      <td>-0.273534</td>\n",
       "      <td>0.602339</td>\n",
       "      <td>-0.376955</td>\n",
       "    </tr>\n",
       "    <tr>\n",
       "      <th>dis</th>\n",
       "      <td>-0.379670</td>\n",
       "      <td>0.664408</td>\n",
       "      <td>-0.708027</td>\n",
       "      <td>-0.099176</td>\n",
       "      <td>-0.769230</td>\n",
       "      <td>0.205246</td>\n",
       "      <td>-0.747881</td>\n",
       "      <td>1.000000</td>\n",
       "      <td>-0.494588</td>\n",
       "      <td>-0.534432</td>\n",
       "      <td>-0.232471</td>\n",
       "      <td>0.291512</td>\n",
       "      <td>-0.496996</td>\n",
       "      <td>0.249929</td>\n",
       "    </tr>\n",
       "    <tr>\n",
       "      <th>rad</th>\n",
       "      <td>0.625505</td>\n",
       "      <td>-0.311948</td>\n",
       "      <td>0.595129</td>\n",
       "      <td>-0.007368</td>\n",
       "      <td>0.611441</td>\n",
       "      <td>-0.209847</td>\n",
       "      <td>0.456022</td>\n",
       "      <td>-0.494588</td>\n",
       "      <td>1.000000</td>\n",
       "      <td>0.910228</td>\n",
       "      <td>0.464741</td>\n",
       "      <td>-0.444413</td>\n",
       "      <td>0.488676</td>\n",
       "      <td>-0.381626</td>\n",
       "    </tr>\n",
       "    <tr>\n",
       "      <th>tax</th>\n",
       "      <td>0.582764</td>\n",
       "      <td>-0.314563</td>\n",
       "      <td>0.720760</td>\n",
       "      <td>-0.035587</td>\n",
       "      <td>0.668023</td>\n",
       "      <td>-0.292048</td>\n",
       "      <td>0.506456</td>\n",
       "      <td>-0.534432</td>\n",
       "      <td>0.910228</td>\n",
       "      <td>1.000000</td>\n",
       "      <td>0.460853</td>\n",
       "      <td>-0.441808</td>\n",
       "      <td>0.543993</td>\n",
       "      <td>-0.468536</td>\n",
       "    </tr>\n",
       "    <tr>\n",
       "      <th>ptratio</th>\n",
       "      <td>0.289946</td>\n",
       "      <td>-0.391679</td>\n",
       "      <td>0.383248</td>\n",
       "      <td>-0.121515</td>\n",
       "      <td>0.188933</td>\n",
       "      <td>-0.355501</td>\n",
       "      <td>0.261515</td>\n",
       "      <td>-0.232471</td>\n",
       "      <td>0.464741</td>\n",
       "      <td>0.460853</td>\n",
       "      <td>1.000000</td>\n",
       "      <td>-0.177383</td>\n",
       "      <td>0.374044</td>\n",
       "      <td>-0.507787</td>\n",
       "    </tr>\n",
       "    <tr>\n",
       "      <th>black</th>\n",
       "      <td>-0.385064</td>\n",
       "      <td>0.175520</td>\n",
       "      <td>-0.356977</td>\n",
       "      <td>0.048788</td>\n",
       "      <td>-0.380051</td>\n",
       "      <td>0.128069</td>\n",
       "      <td>-0.273534</td>\n",
       "      <td>0.291512</td>\n",
       "      <td>-0.444413</td>\n",
       "      <td>-0.441808</td>\n",
       "      <td>-0.177383</td>\n",
       "      <td>1.000000</td>\n",
       "      <td>-0.366087</td>\n",
       "      <td>0.333461</td>\n",
       "    </tr>\n",
       "    <tr>\n",
       "      <th>lstat</th>\n",
       "      <td>0.455621</td>\n",
       "      <td>-0.412995</td>\n",
       "      <td>0.603800</td>\n",
       "      <td>-0.053929</td>\n",
       "      <td>0.590879</td>\n",
       "      <td>-0.613808</td>\n",
       "      <td>0.602339</td>\n",
       "      <td>-0.496996</td>\n",
       "      <td>0.488676</td>\n",
       "      <td>0.543993</td>\n",
       "      <td>0.374044</td>\n",
       "      <td>-0.366087</td>\n",
       "      <td>1.000000</td>\n",
       "      <td>-0.737663</td>\n",
       "    </tr>\n",
       "    <tr>\n",
       "      <th>medv</th>\n",
       "      <td>-0.388305</td>\n",
       "      <td>0.360445</td>\n",
       "      <td>-0.483725</td>\n",
       "      <td>0.175260</td>\n",
       "      <td>-0.427321</td>\n",
       "      <td>0.695360</td>\n",
       "      <td>-0.376955</td>\n",
       "      <td>0.249929</td>\n",
       "      <td>-0.381626</td>\n",
       "      <td>-0.468536</td>\n",
       "      <td>-0.507787</td>\n",
       "      <td>0.333461</td>\n",
       "      <td>-0.737663</td>\n",
       "      <td>1.000000</td>\n",
       "    </tr>\n",
       "  </tbody>\n",
       "</table>\n",
       "</div>"
      ],
      "text/plain": [
       "             crim        zn     indus      chas       nox        rm       age  \\\n",
       "crim     1.000000 -0.200469  0.406583 -0.055892  0.420972 -0.219247  0.352734   \n",
       "zn      -0.200469  1.000000 -0.533828 -0.042697 -0.516604  0.311991 -0.569537   \n",
       "indus    0.406583 -0.533828  1.000000  0.062938  0.763651 -0.391676  0.644779   \n",
       "chas    -0.055892 -0.042697  0.062938  1.000000  0.091203  0.091251  0.086518   \n",
       "nox      0.420972 -0.516604  0.763651  0.091203  1.000000 -0.302188  0.731470   \n",
       "rm      -0.219247  0.311991 -0.391676  0.091251 -0.302188  1.000000 -0.240265   \n",
       "age      0.352734 -0.569537  0.644779  0.086518  0.731470 -0.240265  1.000000   \n",
       "dis     -0.379670  0.664408 -0.708027 -0.099176 -0.769230  0.205246 -0.747881   \n",
       "rad      0.625505 -0.311948  0.595129 -0.007368  0.611441 -0.209847  0.456022   \n",
       "tax      0.582764 -0.314563  0.720760 -0.035587  0.668023 -0.292048  0.506456   \n",
       "ptratio  0.289946 -0.391679  0.383248 -0.121515  0.188933 -0.355501  0.261515   \n",
       "black   -0.385064  0.175520 -0.356977  0.048788 -0.380051  0.128069 -0.273534   \n",
       "lstat    0.455621 -0.412995  0.603800 -0.053929  0.590879 -0.613808  0.602339   \n",
       "medv    -0.388305  0.360445 -0.483725  0.175260 -0.427321  0.695360 -0.376955   \n",
       "\n",
       "              dis       rad       tax   ptratio     black     lstat      medv  \n",
       "crim    -0.379670  0.625505  0.582764  0.289946 -0.385064  0.455621 -0.388305  \n",
       "zn       0.664408 -0.311948 -0.314563 -0.391679  0.175520 -0.412995  0.360445  \n",
       "indus   -0.708027  0.595129  0.720760  0.383248 -0.356977  0.603800 -0.483725  \n",
       "chas    -0.099176 -0.007368 -0.035587 -0.121515  0.048788 -0.053929  0.175260  \n",
       "nox     -0.769230  0.611441  0.668023  0.188933 -0.380051  0.590879 -0.427321  \n",
       "rm       0.205246 -0.209847 -0.292048 -0.355501  0.128069 -0.613808  0.695360  \n",
       "age     -0.747881  0.456022  0.506456  0.261515 -0.273534  0.602339 -0.376955  \n",
       "dis      1.000000 -0.494588 -0.534432 -0.232471  0.291512 -0.496996  0.249929  \n",
       "rad     -0.494588  1.000000  0.910228  0.464741 -0.444413  0.488676 -0.381626  \n",
       "tax     -0.534432  0.910228  1.000000  0.460853 -0.441808  0.543993 -0.468536  \n",
       "ptratio -0.232471  0.464741  0.460853  1.000000 -0.177383  0.374044 -0.507787  \n",
       "black    0.291512 -0.444413 -0.441808 -0.177383  1.000000 -0.366087  0.333461  \n",
       "lstat   -0.496996  0.488676  0.543993  0.374044 -0.366087  1.000000 -0.737663  \n",
       "medv     0.249929 -0.381626 -0.468536 -0.507787  0.333461 -0.737663  1.000000  "
      ]
     },
     "execution_count": 100,
     "metadata": {},
     "output_type": "execute_result"
    }
   ],
   "source": [
    "boston_corr = boston.corr()\n",
    "boston_corr"
   ]
  },
  {
   "cell_type": "code",
   "execution_count": 106,
   "id": "3bbbd3bc-8b6b-4a52-97f4-351770306c2e",
   "metadata": {},
   "outputs": [
    {
     "data": {
      "text/plain": [
       "ptratio\n",
       "12.6    7.222667\n",
       "13.0    7.406167\n",
       "13.6    7.923000\n",
       "14.4    7.875000\n",
       "14.7    6.246235\n",
       "14.8    6.752333\n",
       "14.9    7.311250\n",
       "15.1    6.816000\n",
       "15.2    6.421923\n",
       "15.3    6.705333\n",
       "15.5    7.241000\n",
       "15.6    6.702000\n",
       "15.9    6.997000\n",
       "16.0    6.230600\n",
       "16.1    6.428800\n",
       "16.4    6.139667\n",
       "16.6    6.344188\n",
       "16.8    6.146750\n",
       "16.9    6.016400\n",
       "17.0    6.868250\n",
       "17.3    6.383000\n",
       "17.4    7.212333\n",
       "17.6    6.822429\n",
       "17.8    6.496130\n",
       "17.9    6.134818\n",
       "18.0    7.218600\n",
       "18.2    6.283000\n",
       "18.3    6.520500\n",
       "18.4    6.285938\n",
       "18.5    6.288750\n",
       "18.6    6.111588\n",
       "18.7    6.406556\n",
       "18.8    5.956000\n",
       "18.9    5.785667\n",
       "19.0    6.453750\n",
       "19.1    6.234882\n",
       "19.2    6.053632\n",
       "19.6    6.224000\n",
       "19.7    6.303250\n",
       "20.1    5.585400\n",
       "20.2    6.024021\n",
       "20.9    6.266273\n",
       "21.0    6.039778\n",
       "21.1    5.888000\n",
       "21.2    6.028533\n",
       "22.0    5.799500\n",
       "Name: rm, dtype: float64"
      ]
     },
     "execution_count": 106,
     "metadata": {},
     "output_type": "execute_result"
    }
   ],
   "source": [
    "boston.groupby('ptratio').rm.mean()"
   ]
  },
  {
   "cell_type": "code",
   "execution_count": 107,
   "id": "4ccbc211-1464-4437-bd4a-d5710653188e",
   "metadata": {},
   "outputs": [
    {
     "data": {
      "text/plain": [
       "medv\n",
       "5.0     5.5680\n",
       "5.6     5.9870\n",
       "6.3     5.8520\n",
       "7.0     4.9665\n",
       "7.2     6.0180\n",
       "         ...  \n",
       "46.7    7.6860\n",
       "48.3    8.2470\n",
       "48.5    7.8530\n",
       "48.8    8.3980\n",
       "50.0    7.4840\n",
       "Name: rm, Length: 229, dtype: float64"
      ]
     },
     "execution_count": 107,
     "metadata": {},
     "output_type": "execute_result"
    }
   ],
   "source": [
    "boston.groupby('medv').rm.mean()"
   ]
  },
  {
   "cell_type": "code",
   "execution_count": 108,
   "id": "070e8b80-8fea-423d-bf25-954920819315",
   "metadata": {},
   "outputs": [
    {
     "data": {
      "text/plain": [
       "6.284634387351779"
      ]
     },
     "execution_count": 108,
     "metadata": {},
     "output_type": "execute_result"
    }
   ],
   "source": [
    "boston.rm.mean()"
   ]
  },
  {
   "cell_type": "code",
   "execution_count": 109,
   "id": "8fd60103-7f35-41f8-8f55-bcf1aba7b5c1",
   "metadata": {},
   "outputs": [
    {
     "data": {
      "text/plain": [
       "22.532806324110677"
      ]
     },
     "execution_count": 109,
     "metadata": {},
     "output_type": "execute_result"
    }
   ],
   "source": [
    "boston.medv.mean()"
   ]
  },
  {
   "cell_type": "code",
   "execution_count": 110,
   "id": "80288624-39b3-4af0-b778-ac25f778f8b8",
   "metadata": {},
   "outputs": [
    {
     "data": {
      "text/plain": [
       "rad\n",
       "1     45.025000\n",
       "2     64.770833\n",
       "3     49.310526\n",
       "4     60.841818\n",
       "5     69.223478\n",
       "6     60.142308\n",
       "7     40.141176\n",
       "8     67.350000\n",
       "24    89.805303\n",
       "Name: age, dtype: float64"
      ]
     },
     "execution_count": 110,
     "metadata": {},
     "output_type": "execute_result"
    }
   ],
   "source": [
    "boston.groupby('rad').age.mean()"
   ]
  },
  {
   "cell_type": "code",
   "execution_count": 111,
   "id": "05e26ab7-b19d-4659-95a2-1576d3af44ef",
   "metadata": {},
   "outputs": [
    {
     "data": {
      "text/plain": [
       "tax\n",
       "187    36.100000\n",
       "188    89.071429\n",
       "193    75.487500\n",
       "198    24.800000\n",
       "216    48.620000\n",
       "         ...    \n",
       "432    81.744444\n",
       "437    97.173333\n",
       "469    47.600000\n",
       "666    89.805303\n",
       "711    94.260000\n",
       "Name: age, Length: 66, dtype: float64"
      ]
     },
     "execution_count": 111,
     "metadata": {},
     "output_type": "execute_result"
    }
   ],
   "source": [
    "boston.groupby('tax').age.mean()"
   ]
  },
  {
   "cell_type": "code",
   "execution_count": 113,
   "id": "f3c0360f-84de-4961-ad30-d4aae8dfd3f2",
   "metadata": {},
   "outputs": [
    {
     "data": {
      "text/plain": [
       "rm\n",
       "3.561     87.9\n",
       "3.863    100.0\n",
       "4.138    100.0\n",
       "4.368     91.2\n",
       "4.519    100.0\n",
       "         ...  \n",
       "8.375     93.9\n",
       "8.398     91.5\n",
       "8.704     86.9\n",
       "8.725     83.0\n",
       "8.780     82.9\n",
       "Name: age, Length: 446, dtype: float64"
      ]
     },
     "execution_count": 113,
     "metadata": {},
     "output_type": "execute_result"
    }
   ],
   "source": [
    "boston.groupby('rm').age.mean()"
   ]
  },
  {
   "cell_type": "markdown",
   "id": "f4864d47-0bad-4b1b-9e9e-7a45b322e615",
   "metadata": {},
   "source": [
    "Esercizio 1/3 Abbiamo un DataFrame di dipendenti: employees_df = pd.DataFrame({ 'employee_id': [101, 102, 103, 104, 105], 'name': ['Alice', 'Bob', 'Charlie', 'David', 'Emma'], 'department_id': [1, 2, 1, 2, 3] })\n",
    "\n",
    "E un DataFrame di dipartimenti: departments_df = pd.DataFrame({ 'department_id': [1, 2, 3], 'department_name': ['HR', 'IT', 'Finance'], 'location': ['New York', 'San Francisco', 'Chicago'] })\n",
    "\n",
    "Unire questi DataFrame in base alla colonna comune department_id, in modo da avere nel risultato informazioni sia sui dipendenti che sui dipartimenti, usando la funzione .merge() • Per ogni DataFrame, trasformare la colonna department_id nell'indice, facendo in modo che la modifica sia permanente; poi unire i due dataset mediante il metodo .join() • Ci sono differenze nel risultato? Quali? Perché?"
   ]
  },
  {
   "cell_type": "code",
   "execution_count": 114,
   "id": "b59348fe-d081-4efd-b661-f1463fc187d8",
   "metadata": {},
   "outputs": [],
   "source": [
    "employees_df = pd.DataFrame({ 'employee_id': [101, 102, 103, 104, 105], 'name': ['Alice', 'Bob', 'Charlie', 'David', 'Emma'], 'department_id': [1, 2, 1, 2, 3] })"
   ]
  },
  {
   "cell_type": "code",
   "execution_count": 115,
   "id": "f559fbe9-24a5-44e8-87aa-98acc9b0dd16",
   "metadata": {},
   "outputs": [],
   "source": [
    "departments_df = pd.DataFrame({ 'department_id': [1, 2, 3], 'department_name': ['HR', 'IT', 'Finance'], 'location': ['New York', 'San Francisco', 'Chicago'] })"
   ]
  },
  {
   "cell_type": "code",
   "execution_count": 118,
   "id": "563c1bf8-962f-4dda-aa26-4be0a364b9f1",
   "metadata": {},
   "outputs": [
    {
     "data": {
      "text/html": [
       "<div>\n",
       "<style scoped>\n",
       "    .dataframe tbody tr th:only-of-type {\n",
       "        vertical-align: middle;\n",
       "    }\n",
       "\n",
       "    .dataframe tbody tr th {\n",
       "        vertical-align: top;\n",
       "    }\n",
       "\n",
       "    .dataframe thead th {\n",
       "        text-align: right;\n",
       "    }\n",
       "</style>\n",
       "<table border=\"1\" class=\"dataframe\">\n",
       "  <thead>\n",
       "    <tr style=\"text-align: right;\">\n",
       "      <th></th>\n",
       "      <th>employee_id</th>\n",
       "      <th>name</th>\n",
       "      <th>department_name</th>\n",
       "      <th>location</th>\n",
       "    </tr>\n",
       "    <tr>\n",
       "      <th>department_id</th>\n",
       "      <th></th>\n",
       "      <th></th>\n",
       "      <th></th>\n",
       "      <th></th>\n",
       "    </tr>\n",
       "  </thead>\n",
       "  <tbody>\n",
       "    <tr>\n",
       "      <th>1</th>\n",
       "      <td>101</td>\n",
       "      <td>Alice</td>\n",
       "      <td>HR</td>\n",
       "      <td>New York</td>\n",
       "    </tr>\n",
       "    <tr>\n",
       "      <th>2</th>\n",
       "      <td>102</td>\n",
       "      <td>Bob</td>\n",
       "      <td>IT</td>\n",
       "      <td>San Francisco</td>\n",
       "    </tr>\n",
       "    <tr>\n",
       "      <th>1</th>\n",
       "      <td>103</td>\n",
       "      <td>Charlie</td>\n",
       "      <td>HR</td>\n",
       "      <td>New York</td>\n",
       "    </tr>\n",
       "    <tr>\n",
       "      <th>2</th>\n",
       "      <td>104</td>\n",
       "      <td>David</td>\n",
       "      <td>IT</td>\n",
       "      <td>San Francisco</td>\n",
       "    </tr>\n",
       "    <tr>\n",
       "      <th>3</th>\n",
       "      <td>105</td>\n",
       "      <td>Emma</td>\n",
       "      <td>Finance</td>\n",
       "      <td>Chicago</td>\n",
       "    </tr>\n",
       "  </tbody>\n",
       "</table>\n",
       "</div>"
      ],
      "text/plain": [
       "               employee_id     name department_name       location\n",
       "department_id                                                     \n",
       "1                      101    Alice              HR       New York\n",
       "2                      102      Bob              IT  San Francisco\n",
       "1                      103  Charlie              HR       New York\n",
       "2                      104    David              IT  San Francisco\n",
       "3                      105     Emma         Finance        Chicago"
      ]
     },
     "execution_count": 118,
     "metadata": {},
     "output_type": "execute_result"
    }
   ],
   "source": [
    "general_df = pd.merge(left=employees_df, right=departments_df, how = 'left', on = 'department_id')\n",
    "general_df = general_df.set_index('department_id')\n",
    "general_df"
   ]
  },
  {
   "cell_type": "code",
   "execution_count": 124,
   "id": "13445b57-039b-4c12-a506-cf08c14e7910",
   "metadata": {},
   "outputs": [
    {
     "data": {
      "text/html": [
       "<div>\n",
       "<style scoped>\n",
       "    .dataframe tbody tr th:only-of-type {\n",
       "        vertical-align: middle;\n",
       "    }\n",
       "\n",
       "    .dataframe tbody tr th {\n",
       "        vertical-align: top;\n",
       "    }\n",
       "\n",
       "    .dataframe thead th {\n",
       "        text-align: right;\n",
       "    }\n",
       "</style>\n",
       "<table border=\"1\" class=\"dataframe\">\n",
       "  <thead>\n",
       "    <tr style=\"text-align: right;\">\n",
       "      <th></th>\n",
       "      <th>employee_id</th>\n",
       "      <th>name</th>\n",
       "      <th>department_name</th>\n",
       "      <th>location</th>\n",
       "    </tr>\n",
       "    <tr>\n",
       "      <th>department_id</th>\n",
       "      <th></th>\n",
       "      <th></th>\n",
       "      <th></th>\n",
       "      <th></th>\n",
       "    </tr>\n",
       "  </thead>\n",
       "  <tbody>\n",
       "    <tr>\n",
       "      <th>1</th>\n",
       "      <td>101</td>\n",
       "      <td>Alice</td>\n",
       "      <td>HR</td>\n",
       "      <td>New York</td>\n",
       "    </tr>\n",
       "    <tr>\n",
       "      <th>2</th>\n",
       "      <td>102</td>\n",
       "      <td>Bob</td>\n",
       "      <td>IT</td>\n",
       "      <td>San Francisco</td>\n",
       "    </tr>\n",
       "    <tr>\n",
       "      <th>1</th>\n",
       "      <td>103</td>\n",
       "      <td>Charlie</td>\n",
       "      <td>HR</td>\n",
       "      <td>New York</td>\n",
       "    </tr>\n",
       "    <tr>\n",
       "      <th>2</th>\n",
       "      <td>104</td>\n",
       "      <td>David</td>\n",
       "      <td>IT</td>\n",
       "      <td>San Francisco</td>\n",
       "    </tr>\n",
       "    <tr>\n",
       "      <th>3</th>\n",
       "      <td>105</td>\n",
       "      <td>Emma</td>\n",
       "      <td>Finance</td>\n",
       "      <td>Chicago</td>\n",
       "    </tr>\n",
       "  </tbody>\n",
       "</table>\n",
       "</div>"
      ],
      "text/plain": [
       "               employee_id     name department_name       location\n",
       "department_id                                                     \n",
       "1                      101    Alice              HR       New York\n",
       "2                      102      Bob              IT  San Francisco\n",
       "1                      103  Charlie              HR       New York\n",
       "2                      104    David              IT  San Francisco\n",
       "3                      105     Emma         Finance        Chicago"
      ]
     },
     "execution_count": 124,
     "metadata": {},
     "output_type": "execute_result"
    }
   ],
   "source": [
    "employees = employees_df.set_index('department_id')\n",
    "departments = departments_df.set_index('department_id')\n",
    "\n",
    "another_general_df = employees.join(departments)\n",
    "another_general_df"
   ]
  },
  {
   "cell_type": "markdown",
   "id": "0342bfaa-a418-49c8-b62c-fc1f97f31078",
   "metadata": {},
   "source": [
    "Dal database AdventureWorksDW importiamo le tabelle dimemployee e dimemployeesalesterritory come DataFrame • Effettuiamo un join tra i due DataFrame usando le colonne EmployeeKey • Controlliamo la dimensione del DataFrame risultante: è quella attesa? • Importiamo ora la tabella dimsalesterritory ed effettuiamo un join tra questa e il DataFrame risultante della join precedente, usando le colonne SalesTerritoryKey • Su questo DataFrame contare quanti dipendenti ci sono per ogni paese (country) e per ogni regione (region) • Valutiamo la media del BaseRate per ogni paese: ci sono differenze?"
   ]
  },
  {
   "cell_type": "code",
   "execution_count": 126,
   "id": "e6952e07-6cbe-4551-93a4-d2d2810122ec",
   "metadata": {},
   "outputs": [],
   "source": [
    "%run Connection.ipynb"
   ]
  },
  {
   "cell_type": "code",
   "execution_count": 161,
   "id": "d07e704f-4fbb-4590-8eec-a4777feda02d",
   "metadata": {},
   "outputs": [
    {
     "data": {
      "text/plain": [
       "(296, 28)"
      ]
     },
     "execution_count": 161,
     "metadata": {},
     "output_type": "execute_result"
    }
   ],
   "source": [
    "dimemployee = pd.read_sql('SELECT * FROM dimemployee', db_engine)\n",
    "dimemployee.shape"
   ]
  },
  {
   "cell_type": "code",
   "execution_count": 159,
   "id": "704ff0e0-cbd4-4081-b5ee-1852b8601c4b",
   "metadata": {},
   "outputs": [
    {
     "data": {
      "text/plain": [
       "(39, 2)"
      ]
     },
     "execution_count": 159,
     "metadata": {},
     "output_type": "execute_result"
    }
   ],
   "source": [
    "dimemployeesalesterritory = pd.read_sql('SELECT * FROM dimemployeesalesterritory', db_engine)\n",
    "dimemployeesalesterritory.shape"
   ]
  },
  {
   "cell_type": "code",
   "execution_count": 157,
   "id": "6a6dbf6e-8e0d-497b-b710-242ffd3c5a3a",
   "metadata": {},
   "outputs": [
    {
     "data": {
      "text/plain": [
       "(317, 29)"
      ]
     },
     "execution_count": 157,
     "metadata": {},
     "output_type": "execute_result"
    }
   ],
   "source": [
    "new_df = pd.merge(left = dimemployee, right = dimemployeesalesterritory, how = 'left', on = 'EmployeeKey')\n",
    "new_df.shape"
   ]
  },
  {
   "cell_type": "code",
   "execution_count": 153,
   "id": "0af62394-de2c-4674-aa6f-2b2d71dbbfd7",
   "metadata": {},
   "outputs": [
    {
     "data": {
      "text/html": [
       "<div>\n",
       "<style scoped>\n",
       "    .dataframe tbody tr th:only-of-type {\n",
       "        vertical-align: middle;\n",
       "    }\n",
       "\n",
       "    .dataframe tbody tr th {\n",
       "        vertical-align: top;\n",
       "    }\n",
       "\n",
       "    .dataframe thead th {\n",
       "        text-align: right;\n",
       "    }\n",
       "</style>\n",
       "<table border=\"1\" class=\"dataframe\">\n",
       "  <thead>\n",
       "    <tr style=\"text-align: right;\">\n",
       "      <th></th>\n",
       "      <th>SalesTerritoryKey</th>\n",
       "      <th>SalesTerritoryAlternateKey</th>\n",
       "      <th>SalesTerritoryRegion</th>\n",
       "      <th>SalesTerritoryCountry</th>\n",
       "      <th>SalesTerritoryGroup</th>\n",
       "      <th>SalesTerritoryImage</th>\n",
       "    </tr>\n",
       "  </thead>\n",
       "  <tbody>\n",
       "    <tr>\n",
       "      <th>0</th>\n",
       "      <td>1</td>\n",
       "      <td>1</td>\n",
       "      <td>Northwest</td>\n",
       "      <td>United States</td>\n",
       "      <td>North America</td>\n",
       "      <td>b'\\xff\\xd8\\xff\\xe0\\x00\\x10JFIF\\x00\\x01\\x01\\x01...</td>\n",
       "    </tr>\n",
       "    <tr>\n",
       "      <th>1</th>\n",
       "      <td>2</td>\n",
       "      <td>2</td>\n",
       "      <td>Northeast</td>\n",
       "      <td>United States</td>\n",
       "      <td>North America</td>\n",
       "      <td>b'\\xff\\xd8\\xff\\xe0\\x00\\x10JFIF\\x00\\x01\\x01\\x01...</td>\n",
       "    </tr>\n",
       "    <tr>\n",
       "      <th>2</th>\n",
       "      <td>3</td>\n",
       "      <td>3</td>\n",
       "      <td>Central</td>\n",
       "      <td>United States</td>\n",
       "      <td>North America</td>\n",
       "      <td>b'\\xff\\xd8\\xff\\xe0\\x00\\x10JFIF\\x00\\x01\\x01\\x01...</td>\n",
       "    </tr>\n",
       "    <tr>\n",
       "      <th>3</th>\n",
       "      <td>4</td>\n",
       "      <td>4</td>\n",
       "      <td>Southwest</td>\n",
       "      <td>United States</td>\n",
       "      <td>North America</td>\n",
       "      <td>b'\\xff\\xd8\\xff\\xe0\\x00\\x10JFIF\\x00\\x01\\x01\\x01...</td>\n",
       "    </tr>\n",
       "    <tr>\n",
       "      <th>4</th>\n",
       "      <td>5</td>\n",
       "      <td>5</td>\n",
       "      <td>Southeast</td>\n",
       "      <td>United States</td>\n",
       "      <td>North America</td>\n",
       "      <td>b'\\xff\\xd8\\xff\\xe0\\x00\\x10JFIF\\x00\\x01\\x01\\x01...</td>\n",
       "    </tr>\n",
       "    <tr>\n",
       "      <th>5</th>\n",
       "      <td>6</td>\n",
       "      <td>6</td>\n",
       "      <td>Canada</td>\n",
       "      <td>Canada</td>\n",
       "      <td>North America</td>\n",
       "      <td>b'\\xff\\xd8\\xff\\xe0\\x00\\x10JFIF\\x00\\x01\\x01\\x01...</td>\n",
       "    </tr>\n",
       "    <tr>\n",
       "      <th>6</th>\n",
       "      <td>7</td>\n",
       "      <td>7</td>\n",
       "      <td>France</td>\n",
       "      <td>France</td>\n",
       "      <td>Europe</td>\n",
       "      <td>b'\\xff\\xd8\\xff\\xe0\\x00\\x10JFIF\\x00\\x01\\x01\\x01...</td>\n",
       "    </tr>\n",
       "    <tr>\n",
       "      <th>7</th>\n",
       "      <td>8</td>\n",
       "      <td>8</td>\n",
       "      <td>Germany</td>\n",
       "      <td>Germany</td>\n",
       "      <td>Europe</td>\n",
       "      <td>b'\\xff\\xd8\\xff\\xe0\\x00\\x10JFIF\\x00\\x01\\x01\\x01...</td>\n",
       "    </tr>\n",
       "    <tr>\n",
       "      <th>8</th>\n",
       "      <td>9</td>\n",
       "      <td>9</td>\n",
       "      <td>Australia</td>\n",
       "      <td>Australia</td>\n",
       "      <td>Pacific</td>\n",
       "      <td>b'\\xff\\xd8\\xff\\xe0\\x00\\x10JFIF\\x00\\x01\\x01\\x01...</td>\n",
       "    </tr>\n",
       "    <tr>\n",
       "      <th>9</th>\n",
       "      <td>10</td>\n",
       "      <td>10</td>\n",
       "      <td>United Kingdom</td>\n",
       "      <td>United Kingdom</td>\n",
       "      <td>Europe</td>\n",
       "      <td>b'\\xff\\xd8\\xff\\xe0\\x00\\x10JFIF\\x00\\x01\\x01\\x01...</td>\n",
       "    </tr>\n",
       "    <tr>\n",
       "      <th>10</th>\n",
       "      <td>11</td>\n",
       "      <td>0</td>\n",
       "      <td>Corporate HQ</td>\n",
       "      <td>Corporate HQ</td>\n",
       "      <td>Corporate HQ</td>\n",
       "      <td>None</td>\n",
       "    </tr>\n",
       "  </tbody>\n",
       "</table>\n",
       "</div>"
      ],
      "text/plain": [
       "    SalesTerritoryKey  SalesTerritoryAlternateKey SalesTerritoryRegion  \\\n",
       "0                   1                           1            Northwest   \n",
       "1                   2                           2            Northeast   \n",
       "2                   3                           3              Central   \n",
       "3                   4                           4            Southwest   \n",
       "4                   5                           5            Southeast   \n",
       "5                   6                           6               Canada   \n",
       "6                   7                           7               France   \n",
       "7                   8                           8              Germany   \n",
       "8                   9                           9            Australia   \n",
       "9                  10                          10       United Kingdom   \n",
       "10                 11                           0         Corporate HQ   \n",
       "\n",
       "   SalesTerritoryCountry SalesTerritoryGroup  \\\n",
       "0          United States       North America   \n",
       "1          United States       North America   \n",
       "2          United States       North America   \n",
       "3          United States       North America   \n",
       "4          United States       North America   \n",
       "5                 Canada       North America   \n",
       "6                 France              Europe   \n",
       "7                Germany              Europe   \n",
       "8              Australia             Pacific   \n",
       "9         United Kingdom              Europe   \n",
       "10          Corporate HQ        Corporate HQ   \n",
       "\n",
       "                                  SalesTerritoryImage  \n",
       "0   b'\\xff\\xd8\\xff\\xe0\\x00\\x10JFIF\\x00\\x01\\x01\\x01...  \n",
       "1   b'\\xff\\xd8\\xff\\xe0\\x00\\x10JFIF\\x00\\x01\\x01\\x01...  \n",
       "2   b'\\xff\\xd8\\xff\\xe0\\x00\\x10JFIF\\x00\\x01\\x01\\x01...  \n",
       "3   b'\\xff\\xd8\\xff\\xe0\\x00\\x10JFIF\\x00\\x01\\x01\\x01...  \n",
       "4   b'\\xff\\xd8\\xff\\xe0\\x00\\x10JFIF\\x00\\x01\\x01\\x01...  \n",
       "5   b'\\xff\\xd8\\xff\\xe0\\x00\\x10JFIF\\x00\\x01\\x01\\x01...  \n",
       "6   b'\\xff\\xd8\\xff\\xe0\\x00\\x10JFIF\\x00\\x01\\x01\\x01...  \n",
       "7   b'\\xff\\xd8\\xff\\xe0\\x00\\x10JFIF\\x00\\x01\\x01\\x01...  \n",
       "8   b'\\xff\\xd8\\xff\\xe0\\x00\\x10JFIF\\x00\\x01\\x01\\x01...  \n",
       "9   b'\\xff\\xd8\\xff\\xe0\\x00\\x10JFIF\\x00\\x01\\x01\\x01...  \n",
       "10                                               None  "
      ]
     },
     "execution_count": 153,
     "metadata": {},
     "output_type": "execute_result"
    }
   ],
   "source": [
    "dimsalesterritory = pd.read_sql('SELECT * FROM dimsalesterritory', db_engine)\n",
    "dimsalesterritory"
   ]
  },
  {
   "cell_type": "code",
   "execution_count": 166,
   "id": "cf80685b-0876-4aa2-87de-7ff94ba60ce5",
   "metadata": {},
   "outputs": [
    {
     "data": {
      "text/plain": [
       "(317, 34)"
      ]
     },
     "execution_count": 166,
     "metadata": {},
     "output_type": "execute_result"
    }
   ],
   "source": [
    "another_df = pd.merge(left = new_df, right = dimsalesterritory, how = 'left', on = 'SalesTerritoryKey')\n",
    "another_df.shape"
   ]
  },
  {
   "cell_type": "code",
   "execution_count": 167,
   "id": "93f9936b-ec6c-4764-9ed8-cc4d87965c5d",
   "metadata": {},
   "outputs": [
    {
     "data": {
      "text/plain": [
       "SalesTerritoryCountry\n",
       "Australia         47.764433\n",
       "Canada            41.592550\n",
       "France            41.592550\n",
       "Germany           47.764433\n",
       "United Kingdom    47.764433\n",
       "United States     39.909309\n",
       "Name: BaseRate, dtype: float64"
      ]
     },
     "execution_count": 167,
     "metadata": {},
     "output_type": "execute_result"
    }
   ],
   "source": [
    "another_df.groupby('SalesTerritoryCountry').BaseRate.mean()"
   ]
  },
  {
   "cell_type": "code",
   "execution_count": 162,
   "id": "975fb59b-f8eb-4967-9590-3e9a8d0dbb8f",
   "metadata": {},
   "outputs": [
    {
     "data": {
      "text/plain": [
       "SalesTerritoryRegion\n",
       "Australia         3\n",
       "Canada            4\n",
       "Central           5\n",
       "France            4\n",
       "Germany           3\n",
       "Northeast         3\n",
       "Northwest         5\n",
       "Southeast         4\n",
       "Southwest         5\n",
       "United Kingdom    3\n",
       "Name: EmployeeKey, dtype: int64"
      ]
     },
     "execution_count": 162,
     "metadata": {},
     "output_type": "execute_result"
    }
   ],
   "source": [
    "another_df.groupby('SalesTerritoryRegion').EmployeeKey.count()"
   ]
  }
 ],
 "metadata": {
  "kernelspec": {
   "display_name": "Python 3 (ipykernel)",
   "language": "python",
   "name": "python3"
  },
  "language_info": {
   "codemirror_mode": {
    "name": "ipython",
    "version": 3
   },
   "file_extension": ".py",
   "mimetype": "text/x-python",
   "name": "python",
   "nbconvert_exporter": "python",
   "pygments_lexer": "ipython3",
   "version": "3.12.7"
  }
 },
 "nbformat": 4,
 "nbformat_minor": 5
}
