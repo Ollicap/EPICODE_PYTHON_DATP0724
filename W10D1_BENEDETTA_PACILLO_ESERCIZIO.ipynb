{
 "cells": [
  {
   "cell_type": "code",
   "execution_count": 3,
   "id": "13e0e54e-4dcc-41fa-b9e0-e73b5210ed8d",
   "metadata": {},
   "outputs": [
    {
     "data": {
      "text/plain": [
       "7"
      ]
     },
     "execution_count": 3,
     "metadata": {},
     "output_type": "execute_result"
    }
   ],
   "source": [
    "# 1 Abbiamo una lista di liste: mat = [[0, 1, 2, 3, 4], [5, 6, 7, 8, 9], [10, 11, 12, 13, 14]] Che tipo di struttura dati o matematica potrebbe rappresentare?\n",
    "#Notare che tutte le liste \"interne\" sono della stessa dimensione Come facciamo per accedere ad un elemento in particolare?\n",
    "\n",
    "mat = [[0, 1, 2, 3, 4], [5, 6, 7, 8, 9], [10, 11, 12, 13, 14]] # è una matrice o un array a due dimensioni\n",
    "# per accerede a un elemento bisogna fare riferimento ai due indici della matrice\n",
    "mat[0][1] # accede al secondo elemento della prima lista\n",
    "mat[1][2] # accedere al terzo elemento della seconda lista\n",
    "#mat[4][0] # dà errore perché non possiede una lista con indice 4"
   ]
  },
  {
   "cell_type": "code",
   "execution_count": 18,
   "id": "2e6af8fc-f55a-4fb8-95d0-67dec6e20950",
   "metadata": {},
   "outputs": [
    {
     "name": "stdout",
     "output_type": "stream",
     "text": [
      "0.8509035245341184\n",
      "0.5253219888177297\n",
      "1.6197751905438615\n",
      "119622220865480194561963161495657715064383733760000000000\n",
      "0.8939966636005579\n",
      "-0.4480736161291701\n",
      "-1.995200412208242\n",
      "1485715964481761497309522733620825737885569961284688766942216863704985393094065876545992131370884059645617234469978112000000000000000000000\n",
      "0.0\n",
      "1.0\n",
      "0.0\n",
      "1\n",
      "3.141592653589793\n"
     ]
    }
   ],
   "source": [
    "# 2 Importiamo il modulo math e proviamo a usare le funzioni .sin() .cos() .factorial() e la variabile .pi la riconoscete?\n",
    "\n",
    "import math as m\n",
    "\n",
    "a = 45\n",
    "b = 90\n",
    "c = 0\n",
    "\n",
    "print(m.sin(a))\n",
    "print(m.cos(a))\n",
    "print(m.tan(a))\n",
    "print(m.factorial(a))\n",
    "print(m.sin(b))\n",
    "print(m.cos(b))\n",
    "print(m.tan(b))\n",
    "print(m.factorial(b))\n",
    "print(m.sin(c))\n",
    "print(m.cos(c))\n",
    "print(m.tan(c))\n",
    "print(m.factorial(c))\n",
    "print(m.pi)"
   ]
  },
  {
   "cell_type": "code",
   "execution_count": 21,
   "id": "b697db9c-5441-4ff5-a486-cd5613ce18d6",
   "metadata": {},
   "outputs": [
    {
     "name": "stdout",
     "output_type": "stream",
     "text": [
      "180.0\n",
      "360.0\n",
      "Help on built-in function degrees in module math:\n",
      "\n",
      "degrees(x, /)\n",
      "    Convert angle x from radians to degrees.\n",
      "\n"
     ]
    }
   ],
   "source": [
    "# 3 Proviamo a eseguire math.degrees(math.pi) Qual è e cosa significa il risultato? Per saperne di più su questa funzione possiamo usare help(math.degrees)\n",
    "\n",
    "print(m.degrees(m.pi))\n",
    "print(m.degrees(m.tau))\n",
    "help(m.degrees)"
   ]
  },
  {
   "cell_type": "code",
   "execution_count": 31,
   "id": "6972bec8-c52c-4bf5-a295-e9c35b025695",
   "metadata": {},
   "outputs": [
    {
     "name": "stdout",
     "output_type": "stream",
     "text": [
      "8150 1280\n",
      "[5500 7200 6410 8150 7100 5350]\n",
      "6\n",
      "[2000 1280 1900 2500]\n",
      "4\n",
      "4634 1\n"
     ]
    }
   ],
   "source": [
    "# 4\n",
    "import numpy as np\n",
    "\n",
    "lst = [2000, 5500, 7200, 4320, 1280, 1900, 2500, 3900, 6410, 8150, 7100, 5350]\n",
    "lst = np.array(lst)\n",
    "\n",
    "#qual è stata la vendita massima mensile? E quella minima?\n",
    "lst_max = np.max(lst)\n",
    "lst_min = np.min(lst)\n",
    "print(lst_max, lst_min)\n",
    "#• quali sono le vendite mensili maggiori di 5000 oggetti? E quante ne sono?\n",
    "filtro_5k = lst > 5000\n",
    "print(lst[filtro_5k])\n",
    "print(len(lst[filtro_5k]))\n",
    "#• quali sono le vendite minori di 3000 oggetti?\n",
    "filtro_3k = lst < 3000\n",
    "print(lst[filtro_3k])\n",
    "print(len(lst[filtro_3k]))\n",
    "#• in media quanti oggetti sono stati venduti al mese?\n",
    "avg_lst = np.mean(lst)\n",
    "print(round(avg_lst), 1)"
   ]
  },
  {
   "cell_type": "code",
   "execution_count": 15,
   "id": "5b01837e-c666-4719-baa3-378c2ca6dea6",
   "metadata": {},
   "outputs": [
    {
     "name": "stdout",
     "output_type": "stream",
     "text": [
      "12000 12000\n",
      "1997    12000\n",
      "1998    15000\n",
      "1999    20000\n",
      "dtype: int64\n"
     ]
    }
   ],
   "source": [
    "# 5\n",
    "import pandas as pd\n",
    "\n",
    "fatturati_dict = {1997: 12_000, 1998: 15_000, 1999: 20_000, 2000: 23_000, 2001: 25_000, 2002: 17_000, 2003: 14_000, 2004: 21_000}\n",
    "fatturati_series = pd.Series([12_000, 15_000, 20_000, 23_000, 25_000, 17_000, 14_000, 21_000], index=range(1997, 2005))\n",
    "\n",
    "print(fatturati_dict[1997], fatturati_series[1997])\n",
    "print(fatturati_series[:3])\n",
    "\n",
    "# La differenza tra dict e series è che il secondo è più efficiente nello storage delle informazioni, inoltre è possibile utilizzare gli indici non solo come \n",
    "# tag univoco ma gli indici possono essere ripetuti per permettere agrregazioni successive. I dizionari invece ammettono solo valori chiave univoci"
   ]
  },
  {
   "cell_type": "code",
   "execution_count": 56,
   "id": "4f8472cc-85c0-4232-8667-bcd1ef16596d",
   "metadata": {},
   "outputs": [
    {
     "name": "stdout",
     "output_type": "stream",
     "text": [
      "[ 200  400  600  800 1000 1200 1400 1600 1800 2000]\n",
      "[ 400  800 1200 1600 2000 2400 2800 3200 3600 4000]\n"
     ]
    }
   ],
   "source": [
    "# 6 \n",
    "import numpy as np \n",
    "stipendi = np.array( [100, 200, 300, 400, 500, 600, 700, 800, 900, 1000] )\n",
    "\n",
    "# raddoppiare gli stipendi con il ciclo for\n",
    "\n",
    "for i in range(len(stipendi)):\n",
    "    stipendi[i] = stipendi[i]* 2\n",
    "print(stipendi)\n",
    "\n",
    "stipendi_doppi = stipendi * 2\n",
    "print(stipendi_doppi)"
   ]
  },
  {
   "cell_type": "code",
   "execution_count": 3,
   "id": "10146c67-09a3-4d3c-9467-d13d13dfe413",
   "metadata": {},
   "outputs": [
    {
     "name": "stdout",
     "output_type": "stream",
     "text": [
      "[90, 67, 55]\n",
      "[100, 99, 88]\n"
     ]
    }
   ],
   "source": [
    "# 7 Scrivere un programma che, data una lista di numeri, fornisca in output i tre numeri più grandi; gestire il caso in cui la lista sia più corta di tre,\n",
    "# e quando uno o più dei numeri selezionati sono uguali.\n",
    "def max_three(numbers):\n",
    "    if len(numbers) < 3:\n",
    "        print('La lista è più corta di tre elementi')\n",
    "        return []\n",
    "    unique_numbers = set(numbers)\n",
    "    unique_numbers_list = list(unique_numbers)\n",
    "    unique_numbers_list.sort(reverse=True)\n",
    "    return unique_numbers_list[:3]\n",
    "\n",
    "numbers = [23, 44, 12, 67, 8, 34, 9, 43, 90, 44, 67, 23, 55, 1]\n",
    "numbers_alt = [100, 99, 88, 88, 99]\n",
    "print(max_three(numbers))\n",
    "print(max_three(numbers_alt))"
   ]
  },
  {
   "cell_type": "code",
   "execution_count": 18,
   "id": "416c430c-14f5-4e1d-84ad-6abf18ac080e",
   "metadata": {},
   "outputs": [
    {
     "name": "stdin",
     "output_type": "stream",
     "text": [
      "Quanti numeri vuoi inserire? 4\n",
      "Inserisci un numero 1\n",
      "Inserisci un numero 2\n",
      "Inserisci un numero 3\n",
      "Inserisci un numero 4\n",
      "Scegli un numero 2\n"
     ]
    },
    {
     "data": {
      "text/plain": [
       "3.0"
      ]
     },
     "execution_count": 18,
     "metadata": {},
     "output_type": "execute_result"
    }
   ],
   "source": [
    "# 8 Scrivere un programma che • in input acquisisce una lista di numeri e un numero K \n",
    "#• in output, dovrà restituire la media di tutti i numeri nella lista maggiori o uguali a K \n",
    "#• se non ce ne dovesse essere nessuno, dovrà stampare a schermo un messaggio adeguato.\n",
    "import numpy as np\n",
    "\n",
    "def k_comparison(lst, k):\n",
    "    lst = np.array(lst)\n",
    "    numeri_maggio_k = []\n",
    "    for num in lst:\n",
    "        if num >= k:\n",
    "            numeri_maggio_k.append(num)\n",
    "    if len(numeri_maggio_k) > 0:\n",
    "        media = np.array(numeri_maggio_k).mean()\n",
    "        return media\n",
    "    else: \n",
    "        print('Non ci sono valori maggiori di k')\n",
    "        \n",
    "user_answer = int(input('Quanti numeri vuoi inserire?'))\n",
    "lst = []\n",
    "for pos_lst in range(user_answer):\n",
    "    prossimo_numero = int(input('Inserisci un numero'))\n",
    "    lst.append(prossimo_numero)\n",
    "                          \n",
    "    \n",
    "k = int(input('Scegli un numero'))\n",
    "\n",
    "k_comparison(lst, k)"
   ]
  },
  {
   "cell_type": "code",
   "execution_count": 20,
   "id": "b6bcf3ce-e20a-4856-aadd-677b9533a490",
   "metadata": {},
   "outputs": [
    {
     "name": "stdout",
     "output_type": "stream",
     "text": [
      "*****\n",
      "*******\n",
      "****\n",
      "***\n",
      "******\n"
     ]
    }
   ],
   "source": [
    "numeri = [5, 7, 4, 3, 6]\n",
    "\n",
    "for num in numeri:\n",
    "    print('*' * num)"
   ]
  },
  {
   "cell_type": "code",
   "execution_count": 6,
   "id": "de951495-086a-417d-b432-5de974ae84c6",
   "metadata": {},
   "outputs": [
    {
     "name": "stdout",
     "output_type": "stream",
     "text": [
      "['ABCDEF95G01A123B', 'STUVWX95Z04A654E', 'DEFGHI95J06A987G']\n",
      "['ABCDEF95G01A123B', 'STUVWX95Z04A654E', 'DEFGHI95J06A987G', 'ABCDEF95G01A123B', 'STUVWX95Z04A654E', 'DEFGHI95J06A987G']\n"
     ]
    }
   ],
   "source": [
    "# 10 \n",
    "\n",
    "lista_cf = [\"ABCDEF95G01A123B\", \"GHIJKL91M02A321C\", \"MNOPQR89S03A456D\", \"STUVWX95Z04A654E\", \"XYZABC01D05A789F\", \"DEFGHI95J06A987G\"]\n",
    "\n",
    "lista_95 = []\n",
    "\n",
    "for cf in lista_cf:\n",
    "    for i in range(len(cf)-1):\n",
    "        if cf[i] == '9' and cf[i+1] == '5':\n",
    "            lista_95.append(cf)\n",
    "print(lista_95)\n",
    "\n",
    "# oppure\n",
    "\n",
    "for cf in lista_cf:\n",
    "    if '95' in cf:\n",
    "        lista_95.append(cf)\n",
    "print(lista_95)\n",
    "        "
   ]
  },
  {
   "cell_type": "code",
   "execution_count": 12,
   "id": "9f1acc5f-f772-4362-92a1-d6798304223a",
   "metadata": {},
   "outputs": [
    {
     "name": "stdout",
     "output_type": "stream",
     "text": [
      "[['Alex', 1], ['Bob', 2], ['Cindy', 3], ['Dan', 2], ['Emma', 2], ['Faith', 1], ['Grace', 3], ['Henry', 3]]\n"
     ]
    }
   ],
   "source": [
    "# Abbiamo tre liste della stessa lunghezza, dove ogni elemento nella medesima posizione si riferisce ai dati dello stesso studente:\n",
    "\n",
    "studenti = [\"Alex\", \"Bob\", \"Cindy\", \"Dan\", \"Emma\", \"Faith\", \"Grace\", \"Henry\"]\n",
    "corsi = [\"Cybersecurity\", \"Data Analyst\", \"Backend\", \"Frontend\", \"Data Analyst\", \"Backend\", \"Frontend\", \"Cybersecurity\"]\n",
    "edizioni = [1, 2, 3, 2, 2, 1, 3, 3]\n",
    "\n",
    "# Stampare a video tutti e soli gli studenti che frequentano una prima edizione; non tutti i dati potrebbero essere necessari.\n",
    "\n",
    "lst_combined= []\n",
    "for i in range(len(studenti)):\n",
    "    lst_combined.append([studenti[i], edizioni[i]])\n",
    "print(lst_combined)\n"
   ]
  },
  {
   "cell_type": "code",
   "execution_count": null,
   "id": "072a2ea1-4106-48c4-858f-83ccf722fffa",
   "metadata": {},
   "outputs": [],
   "source": []
  }
 ],
 "metadata": {
  "kernelspec": {
   "display_name": "Python 3 (ipykernel)",
   "language": "python",
   "name": "python3"
  },
  "language_info": {
   "codemirror_mode": {
    "name": "ipython",
    "version": 3
   },
   "file_extension": ".py",
   "mimetype": "text/x-python",
   "name": "python",
   "nbconvert_exporter": "python",
   "pygments_lexer": "ipython3",
   "version": "3.12.7"
  }
 },
 "nbformat": 4,
 "nbformat_minor": 5
}
