{
 "cells": [
  {
   "cell_type": "markdown",
   "id": "94d95251-fff0-4bc5-b61d-fd4709c3b0c7",
   "metadata": {},
   "source": [
    "#Esercizio Individuiamo tre task di qualsiasi tipo(fare la spesa, studiare un concetto, \n",
    "#riempire il serbatoio dell'auto, acquistare uno snack da un distributore automatico, o qualunque altra cosa);\n",
    "\n",
    "TASK 1: ordinare la cena tramite app\n",
    "1. sbloccare lo smartphone\n",
    "2. accedere all'app preferita per ordinare la cena\n",
    "3. assicurarsi che i dati di pagamento siano corretti\n",
    "4. scegliere il ristorante in base al gusto, alla distanza e al tempo di consegna\n",
    "5. selezionare tutti i piatti desiderati cliccando +1 sull'app\n",
    "6. procedere al checkout selezionando il pulsante in basso con la scritta 'Ordina e paga'\n",
    "7. dare conferma dell'indirizzo\n",
    "8. inserire le note per il rider (citofono, scala)\n",
    "9. confermare il pagamento\n",
    "10. aspettare il rider con la cena\n",
    "\n",
    "TASK 2: preprare un caffè espresso con una macchina professionale da bar\n",
    "1. svitare il poltrafiltro del corpo macchina ruotandolo in senso orario\n",
    "2. aprire il cassetto svuota filtri\n",
    "3. svuotare il portafiltri nel cassetto sbattendolo contro il rullo\n",
    "4. pulire il poltrafiltri col la spazzola\n",
    "5. spostarsi verso il macinacaffè\n",
    "6. azionare il macinacaffè per macinare i chicchi\n",
    "7. polizionare il portafiltri sotto l'erogatore del caffè macinato\n",
    "8. tirare verso di sè la leva erogatrice una volta sola\n",
    "9. prendere il pressino\n",
    "10. usare il pressino per compattare la polvere di caffè all'interno del portafiltro\n",
    "11. spostarsi verso il corpo macchina\n",
    "12. agganciare il portafiltro ruotandolo in senso antiorario\n",
    "13. prendere una tazzina da sopra la caldaia della macchina del caffè\n",
    "14. posizionarla sotto il beccuccio del portafiltro appena caricato\n",
    "15. spingere il pulsante della caldaia per l'erogazione di una tazzina d caffè espresso\n",
    "\n",
    "TASK 3: "
   ]
  },
  {
   "cell_type": "code",
   "execution_count": 3,
   "id": "97ecc349-79be-41a6-b8b5-c4d506b0c0af",
   "metadata": {},
   "outputs": [],
   "source": [
    "# Crea una variabile studenti e assegna un numero intero\n",
    "studenti = 25"
   ]
  },
  {
   "cell_type": "code",
   "execution_count": 6,
   "id": "fb8dab12-1d1d-4df3-a49b-4a7b00e11805",
   "metadata": {},
   "outputs": [
    {
     "name": "stdout",
     "output_type": "stream",
     "text": [
      "25\n"
     ]
    }
   ],
   "source": [
    "#Sampare a video la variabile studenti\n",
    "print(studenti)"
   ]
  },
  {
   "cell_type": "code",
   "execution_count": 8,
   "id": "71e734c6-7aba-444e-9e87-759df8e78f5b",
   "metadata": {},
   "outputs": [],
   "source": [
    "#Abbiamo 25 studenti; memorizzare questo dato in una variabile. Arrivano altri 3 studenti; memorizzare questo dato in un'altra variabile.\n",
    "studenti = 25\n",
    "altri_studenti = 3"
   ]
  },
  {
   "cell_type": "code",
   "execution_count": 9,
   "id": "d83befe3-c645-4675-a1f3-1684f7359413",
   "metadata": {},
   "outputs": [
    {
     "name": "stdout",
     "output_type": "stream",
     "text": [
      "28\n"
     ]
    }
   ],
   "source": [
    "# Creare un'altra variabile ancora che conterrà la somma delle prime due, poi stamparla a video.\n",
    "studenti_aggiornato = studenti + altri_studenti\n",
    "print(studenti_aggiornato)"
   ]
  },
  {
   "cell_type": "code",
   "execution_count": 10,
   "id": "d64b2eb3-7758-413b-bc1b-f7c06b0db2b2",
   "metadata": {},
   "outputs": [
    {
     "name": "stdout",
     "output_type": "stream",
     "text": [
      "Epicode\n"
     ]
    }
   ],
   "source": [
    "# Creare una variabile che contiene la stringa \"Epicode\", quindi stamparla a video.\n",
    "epicode = 'Epicode'\n",
    "print(epicode)"
   ]
  },
  {
   "cell_type": "code",
   "execution_count": 11,
   "id": "f16b2189-6020-414b-b69d-c9edc089f5b0",
   "metadata": {},
   "outputs": [
    {
     "name": "stdout",
     "output_type": "stream",
     "text": [
      "36\n"
     ]
    }
   ],
   "source": [
    "# Abbiamo la variabile: x = 10 Incrementarla di 2 e poi moltiplicarla per 3\n",
    "\n",
    "x = 10\n",
    "x +=2\n",
    "x *=3\n",
    "print(x)"
   ]
  },
  {
   "cell_type": "code",
   "execution_count": 13,
   "id": "f679d02e-0fe3-4dc3-84aa-877a216aa476",
   "metadata": {},
   "outputs": [
    {
     "name": "stdout",
     "output_type": "stream",
     "text": [
      "7\n",
      "5\n",
      "10\n",
      "4\n"
     ]
    }
   ],
   "source": [
    "# Creiamo le seguenti stringhe, e per ognuna di esse verifichiamone la lunghezza con la funzione len(): • str1 = \"Windows\" • str2 = \"Excel\" • str3 = \"Powerpoint\" • str4 = \"Word\"\n",
    "str1 = \"Windows\"\n",
    "str2 = \"Excel\"\n",
    "str3 = \"Powerpoint\"\n",
    "str4 = \"Word\"\n",
    "\n",
    "print(len(str1))\n",
    "print(len(str2))\n",
    "print(len(str3))\n",
    "print(len(str4))"
   ]
  },
  {
   "cell_type": "code",
   "execution_count": 14,
   "id": "8131aa0a-4cc2-4e9d-92fb-453dfda86b8a",
   "metadata": {},
   "outputs": [
    {
     "name": "stdout",
     "output_type": "stream",
     "text": [
      "31536000\n"
     ]
    }
   ],
   "source": [
    "# Calcolare e stampare a video quanti secondi ci sono in un anno non bisestile.\n",
    "sec_in_min = 60\n",
    "min_in_h = 60\n",
    "h_in_day = 24\n",
    "day_in_year = 365\n",
    "sec_in_year = sec_in_min * min_in_h * h_in_day * day_in_year\n",
    "print(sec_in_year)"
   ]
  },
  {
   "cell_type": "code",
   "execution_count": 15,
   "id": "64b460ea-ae80-4375-be65-10f17308abc8",
   "metadata": {},
   "outputs": [
    {
     "name": "stdout",
     "output_type": "stream",
     "text": [
      "I am studying Python\n",
      "I AM STUDYING PYTHON\n",
      "i am studying python\n",
      "I am studying a lot\n",
      "I am studying Python\n",
      "['I', 'am', 'studying', 'Python']\n"
     ]
    }
   ],
   "source": [
    "# Esercizio Abbiamo la seguente stringa: my_string = \"I am studying Python\" • Trasformarla in modo che tutti i caratteri siano maiuscoli (uppercase) • Trasformarla in modo che tutti i caratteri siano minuscoli (lowercase) • Sostituire la sottostringa \"Python\" con la stringa \"a lot\" \n",
    "# Usare il metodo .strip(); cambia qualcosa? Perché? • Usare il metodo .split() per trovare tutte le parole (token)\n",
    "\n",
    "my_string = 'I am studying Python'\n",
    "upper_string = my_string.upper()\n",
    "lower_string = my_string.lower()\n",
    "replace_string = my_string.replace('Python', 'a lot')\n",
    "strip_string = my_string.strip() #il risultato non cambia perché non ci sono withespace agli estremi della stringa\n",
    "split_string = my_string.split()\n",
    "\n",
    "print(my_string)\n",
    "print(upper_string)\n",
    "print(lower_string)\n",
    "print(replace_string)\n",
    "print(strip_string)\n",
    "print(split_string)"
   ]
  },
  {
   "cell_type": "code",
   "execution_count": 16,
   "id": "708cc179-4ebb-4f89-bf9c-44e567cff0a2",
   "metadata": {},
   "outputs": [
    {
     "name": "stdout",
     "output_type": "stream",
     "text": [
      "['Cybersecurity', 'Data Analyst', 'Backend', 'Frontend', 'Data Analyst', 'Backend', ['Frontend', 'Cybersecurity']]\n"
     ]
    }
   ],
   "source": [
    "# Abbiamo due liste, una di studenti e una di corsi: \n",
    "# studenti = [\"Alex\", \"Bob\", \"Cindy\", \"Dan\", \"Emma\", \"Faith\", \"Grace\", \"Henry\"] \n",
    "# corsi = [\"Cybersecurity\", \"Data Analyst\", \"Backend\", \"Frontend\", \"Data Analyst\", \"Backend\"]\n",
    "# Tenendo conto che i dati sono in corrispondenza posizionale, leggiamo con attenzione le due liste. \n",
    "# Sapendo che Emma segue Data Analyst Faith segue Backend Grace segue Frontend Henry segue Cybersecurity alla lista cui mancano dei dati, aggiungiamo i dati mancanti uno alla volta con il metodo .append()\n",
    "\n",
    "studenti = [\"Alex\", \"Bob\", \"Cindy\", \"Dan\", \"Emma\", \"Faith\", \"Grace\", \"Henry\"]\n",
    "corsi = [\"Cybersecurity\", \"Data Analyst\", \"Backend\", \"Frontend\", \"Data Analyst\", \"Backend\"]\n",
    "\n",
    "c = ['Frontend', 'Cybersecurity']\n",
    "corsi.append(c)\n",
    "\n",
    "print(corsi)"
   ]
  }
 ],
 "metadata": {
  "kernelspec": {
   "display_name": "Python 3 (ipykernel)",
   "language": "python",
   "name": "python3"
  },
  "language_info": {
   "codemirror_mode": {
    "name": "ipython",
    "version": 3
   },
   "file_extension": ".py",
   "mimetype": "text/x-python",
   "name": "python",
   "nbconvert_exporter": "python",
   "pygments_lexer": "ipython3",
   "version": "3.12.7"
  }
 },
 "nbformat": 4,
 "nbformat_minor": 5
}
